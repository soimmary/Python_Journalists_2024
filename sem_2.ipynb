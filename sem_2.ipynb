{
 "cells": [
  {
   "cell_type": "markdown",
   "id": "ae80cf73",
   "metadata": {
    "id": "ae80cf73"
   },
   "source": [
    "# Лекция 2: Введение в Python"
   ]
  },
  {
   "cell_type": "markdown",
   "id": "0ddcb484",
   "metadata": {
    "id": "0ddcb484"
   },
   "source": [
    "### Где мы будем работать?\n",
    "\n",
    "Jupyter Notebook - интерактивная среда для запуска программного кода в браузере. Удобный инструмент, который используется многими специалистами по data science.\n",
    "\n",
    "![](https://media2.giphy.com/media/2IudUHdI075HL02Pkk/giphy.gif?cid=ecf05e47ty9lob0kw3ifr0d4xrcpwag7oarei12devpt0bpz&ep=v1_gifs_search&rid=giphy.gif&ct=g)"
   ]
  },
  {
   "cell_type": "markdown",
   "id": "23941ae8",
   "metadata": {
    "id": "23941ae8"
   },
   "source": [
    "###  Меньше текста, больше кода\n",
    "\n",
    "**Напутствие**:\n",
    "- *главное не бояться пробовать писать код*\n",
    "- *каким бы неправильным он ни казался*\n",
    "- *скорее всего, ничего такого, что не починится, в рамках Jupyter Notebook вы сделать не сможете*\n",
    "\n",
    "**Краткая инструкция на все случаи жизни**:\n",
    "- Как создать новую ячейку?\n",
    "\n",
    "> Просто нажать кнопку `+` (*insert cell below*) на панели меню выше.\n",
    "\n",
    "- Как запустить код в ячейке?\n",
    "\n",
    "> Выделить ячейку и нажать кнопку `Run`/ `Запуск` или `Ctrl + Enter`(Windows), `Cmd + Enter`(Mac) *(см. Help - Keyboard Shortcuts)*.\n",
    "\n",
    "- Как понять, что код успешно выполнен?\n",
    "\n",
    "> Под ячейкой не появились сообщения об ошибках + поле `In []` / `Ввод []` слева от ячейки содержит число, а не символ `*`.\n",
    "\n",
    "- Что делать, если код не хочет успешно выполняться, поле слева выглядит вот так `In [*]` / `Ввод [*]` и вообще всё зависло аааа помогите\n",
    "<img src=\"https://media4.giphy.com/media/YBf4bJkA2Ns17oix5x/giphy.gif\" style=\"width: 300px;\"/>\n",
    "\n",
    "> Для прерывания выполнения кода можно попробовать нажать кнопку `■` (*interrupt the kernel*) в панели наверху, либо перезапустить весь проект, нажав соседнюю кнопку (*restart the kernel*).\n"
   ]
  },
  {
   "cell_type": "markdown",
   "id": "d80efa52",
   "metadata": {
    "id": "d80efa52"
   },
   "source": [
    "## План на сегодня\n",
    "\n",
    "* Функции и вывод данных\n",
    "* Основные типы данных : число, текст\n",
    "* Действия с основными типами данных\n",
    "* Переменные\n",
    "* Ввод данных\n",
    "* Ошибки, и что с ними делать"
   ]
  },
  {
   "cell_type": "markdown",
   "id": "c3481f74",
   "metadata": {
    "id": "c3481f74"
   },
   "source": [
    "## Функции и вывод на экран\n",
    "\n",
    "В дальнейшем вы часто будете использовать _функции_ из Python или из специализированных Python-модулей.\n",
    "\n",
    "_Функция_ -- это какой-то скрытый от вас программный код, который можно применять для решения конкретной задачи.\n",
    "\n",
    "Например, познакомимся с функцией `print`:\n",
    "- нужна для того, чтобы выводить на экран текст / числа / что угодно ещё\n",
    "- формат вызова: `print(<первое, что хотите вывести на экран>, <второе, что хотите вывести на экран>, ...)`\n",
    "\n",
    "То, что перечисляется внутри скобок и разделяется запятыми, называется *аргументами* или _входами_ функции"
   ]
  },
  {
   "cell_type": "markdown",
   "id": "eb4a56ad",
   "metadata": {
    "id": "eb4a56ad"
   },
   "source": [
    "<img src=\"https://i.ibb.co/12sSpRd/Untitled-Frame-1-11.jpg\" alt=\"Drawing\" style=\"width: 800px;\"/>"
   ]
  },
  {
   "cell_type": "markdown",
   "id": "781866e2",
   "metadata": {
    "id": "6af4c4bc"
   },
   "source": [
    "Для начала сделаем классику – выведем текст \"Hello world!\" \n",
    "\n",
    "Обычно это первый пример программы в учебниках по программированию, и для многих студентов такая программа является первым опытом при изучении нового языка. Одно из значений фразы – программа, начиная работу, как бы рождается и приветствует мир, в который она приходит."
   ]
  },
  {
   "cell_type": "code",
   "execution_count": 28,
   "id": "8f66e705",
   "metadata": {
    "id": "8f66e705",
    "outputId": "2ac6e066-b97b-4b7e-c01d-250fc25c9a83"
   },
   "outputs": [
    {
     "name": "stdout",
     "output_type": "stream",
     "text": [
      "Hello, world!\n"
     ]
    }
   ],
   "source": [
    "print('Hello, world!')"
   ]
  },
  {
   "cell_type": "markdown",
   "id": "6af4c4bc",
   "metadata": {
    "id": "6af4c4bc"
   },
   "source": [
    "Попробуем вывести результат сложения чисел 42 и 146:"
   ]
  },
  {
   "cell_type": "code",
   "execution_count": 32,
   "id": "aaa8e501",
   "metadata": {
    "id": "aaa8e501",
    "outputId": "8b777d26-2eb0-428a-e69f-69fa0c70ac97"
   },
   "outputs": [
    {
     "name": "stdout",
     "output_type": "stream",
     "text": [
      "188\n"
     ]
    }
   ],
   "source": [
    "print(42+146)\n",
    "# всё, что пишется за знаком #, воспринимается как комментарий и не выполняется в рамках программы"
   ]
  },
  {
   "cell_type": "markdown",
   "id": "21abed7a",
   "metadata": {
    "id": "21abed7a"
   },
   "source": [
    "## Типы данных: Целые числа - INT (INTEGER)"
   ]
  },
  {
   "cell_type": "markdown",
   "id": "d1a44ebd",
   "metadata": {
    "id": "d1a44ebd"
   },
   "source": [
    "Python сам понимает, какой тип у данных. Однако, можно так же и запросить у него данную информацию"
   ]
  },
  {
   "cell_type": "code",
   "execution_count": 33,
   "id": "fd5993bc",
   "metadata": {
    "id": "fd5993bc",
    "outputId": "c876ff14-3bd1-4e23-d874-a7816585bab9"
   },
   "outputs": [
    {
     "name": "stdout",
     "output_type": "stream",
     "text": [
      "<class 'int'>\n"
     ]
    }
   ],
   "source": [
    "print(type(5))"
   ]
  },
  {
   "cell_type": "markdown",
   "id": "7ebcc29b",
   "metadata": {
    "id": "7ebcc29b"
   },
   "source": [
    "Разумеется, в python представлены все возможные арифметические операции:"
   ]
  },
  {
   "cell_type": "code",
   "execution_count": 34,
   "id": "3c0fb3b4",
   "metadata": {
    "id": "3c0fb3b4",
    "outputId": "2cb315e7-a463-4e95-cc55-cd2a22544fcc"
   },
   "outputs": [
    {
     "name": "stdout",
     "output_type": "stream",
     "text": [
      "6\n",
      "2\n"
     ]
    }
   ],
   "source": [
    "# сложение\n",
    "print(4 + 2)\n",
    "# вычитание\n",
    "print(4 - 2)"
   ]
  },
  {
   "cell_type": "code",
   "execution_count": 35,
   "id": "12d34c84",
   "metadata": {
    "id": "12d34c84",
    "outputId": "4f0728c1-ad0a-4d7e-add5-19c37e91b802"
   },
   "outputs": [
    {
     "name": "stdout",
     "output_type": "stream",
     "text": [
      "8\n",
      "2.0\n",
      "1\n"
     ]
    }
   ],
   "source": [
    "# умножение\n",
    "print(4 * 2)\n",
    "# деление\n",
    "print(4 / 2)\n",
    "# взятие остатка от деления\n",
    "print(3 % 2)"
   ]
  },
  {
   "cell_type": "code",
   "execution_count": 36,
   "id": "f2c7a60a",
   "metadata": {
    "id": "f2c7a60a",
    "outputId": "9632dad4-c664-4e71-bbf7-26bba30016e6"
   },
   "outputs": [
    {
     "name": "stdout",
     "output_type": "stream",
     "text": [
      "9\n",
      "1.7320508075688772\n"
     ]
    }
   ],
   "source": [
    "# возведение в степень\n",
    "print(3 ** 2)\n",
    "# взятие корня aka возведение в дробную степень\n",
    "print(3 ** (1 / 2))"
   ]
  },
  {
   "cell_type": "markdown",
   "id": "29da8466",
   "metadata": {
    "id": "29da8466"
   },
   "source": [
    "Заметим, что здесь у нас в ответах получились не только целые числа, но также дроби."
   ]
  },
  {
   "cell_type": "markdown",
   "id": "727c030b",
   "metadata": {
    "id": "727c030b"
   },
   "source": [
    "## Типы данных: Вещественные числа - FLOAT"
   ]
  },
  {
   "cell_type": "code",
   "execution_count": null,
   "id": "36fd4ce0",
   "metadata": {
    "id": "36fd4ce0",
    "outputId": "281fa8c3-7dac-4c40-d407-05105bd3e056"
   },
   "outputs": [
    {
     "data": {
      "text/plain": [
       "float"
      ]
     },
     "execution_count": 28,
     "metadata": {},
     "output_type": "execute_result"
    }
   ],
   "source": [
    "type(1.5)"
   ]
  },
  {
   "cell_type": "markdown",
   "id": "3998fd93",
   "metadata": {
    "id": "3998fd93"
   },
   "source": [
    "На что обратить внимание:\n",
    "- числа с десятичной частью, например, $1.43$, в отличие от Excel, в Python пишутся не через запятую `,`, а через точку `.`.\n",
    "\n",
    "Почувствуйте разницу:"
   ]
  },
  {
   "cell_type": "code",
   "execution_count": 37,
   "id": "7635af06",
   "metadata": {
    "id": "7635af06",
    "outputId": "38e2bae1-e139-4116-951b-b2bdf1914b2f"
   },
   "outputs": [
    {
     "name": "stdout",
     "output_type": "stream",
     "text": [
      "2 3.0\n",
      "2 3.0\n",
      "1.3\n"
     ]
    }
   ],
   "source": [
    "print(2,6 / 2)  # печатает два числа\n",
    "print(2, 6 / 2)  # и так тоже два числа, пробел в данном случае неважен\n",
    "print(2.6 / 2)  # печатает одно число"
   ]
  },
  {
   "cell_type": "markdown",
   "id": "415d96dc",
   "metadata": {
    "id": "415d96dc"
   },
   "source": [
    "Также не стоит путать целочисленное и обычное деление:"
   ]
  },
  {
   "cell_type": "code",
   "execution_count": 5,
   "id": "d789872d",
   "metadata": {
    "id": "d789872d",
    "outputId": "adcbaf17-be78-4603-f37f-843c221500e4"
   },
   "outputs": [
    {
     "name": "stdout",
     "output_type": "stream",
     "text": [
      "2.25\n",
      "2\n",
      "1\n"
     ]
    }
   ],
   "source": [
    "print(9 / 4)  # печатает ожидаемый дробный результат\n",
    "print(9 // 4)  # целочисленное деление\n",
    "print(9 % 4)  # остаток от (целочисленного) отделения"
   ]
  },
  {
   "cell_type": "markdown",
   "id": "40bf1a5a",
   "metadata": {},
   "source": [
    "### Пример целочисленного деления\n",
    "\n",
    "У нас есть пирог на компанию из 4 человек. Курьер привез пирог, разрезанный на 9 частей. \n",
    "\n",
    "`9 // 4 = 2`\n",
    "\n",
    "Каждому человеку достанется 2 куска пирога, и у нас останется еще 1.\n",
    "\n",
    "`9 % 4 = 1`\n",
    "\n",
    "<img src = 'https://upload.wikimedia.org/wikipedia/commons/thumb/0/05/Pie_division.svg/440px-Pie_division.svg.png' style=\"height: 400px;\">"
   ]
  },
  {
   "cell_type": "markdown",
   "id": "dd546029",
   "metadata": {
    "id": "dd546029"
   },
   "source": [
    "Иногда результаты могут быть довольно неожиданные. Может показаться, что python совершенно не умеет считать:"
   ]
  },
  {
   "cell_type": "code",
   "execution_count": 38,
   "id": "96b69a4f",
   "metadata": {
    "id": "96b69a4f",
    "outputId": "895a9c6a-2a4b-4aea-90e5-99e1b751104e"
   },
   "outputs": [
    {
     "name": "stdout",
     "output_type": "stream",
     "text": [
      "0.30000000000000004\n"
     ]
    }
   ],
   "source": [
    "print(0.1+0.2)"
   ]
  },
  {
   "cell_type": "markdown",
   "id": "32d560a9",
   "metadata": {},
   "source": [
    "https://0.30000000000000004.com/ есть даже целый сайт, который объясняет, что ваш язык программирования не сломан, это просто \"floating point math\"."
   ]
  },
  {
   "cell_type": "markdown",
   "id": "931370ad",
   "metadata": {
    "id": "931370ad"
   },
   "source": [
    "## Типы данных: Строки (текст) - STR (STRING)"
   ]
  },
  {
   "cell_type": "markdown",
   "id": "dc0c089c",
   "metadata": {
    "id": "dc0c089c"
   },
   "source": [
    "С помощью `print` можно печатать не только числа. Например, текст:\n",
    "- текстовая строка в питоне -- это любое выражение, заключённое в двойные `\"` или одинарные `'` кавычки\n",
    "- с точки зрения пользователя ничем не отличается от привычного текста\n",
    "\n",
    "Например:"
   ]
  },
  {
   "cell_type": "code",
   "execution_count": 39,
   "id": "2b5d04a7",
   "metadata": {
    "id": "2b5d04a7",
    "outputId": "f2f34f68-81c2-44c7-e5b8-d33097d6a326"
   },
   "outputs": [
    {
     "name": "stdout",
     "output_type": "stream",
     "text": [
      "Моё имя:\n"
     ]
    }
   ],
   "source": [
    "print('Моё имя:')"
   ]
  },
  {
   "cell_type": "code",
   "execution_count": 40,
   "id": "8083a5a2",
   "metadata": {
    "id": "8083a5a2",
    "outputId": "cb2e168c-3a4d-495e-9f94-4601279270a2"
   },
   "outputs": [
    {
     "data": {
      "text/plain": [
       "str"
      ]
     },
     "execution_count": 40,
     "metadata": {},
     "output_type": "execute_result"
    }
   ],
   "source": [
    "type('Моё имя:')"
   ]
  },
  {
   "cell_type": "code",
   "execution_count": 48,
   "id": "75b20d08",
   "metadata": {
    "id": "75b20d08",
    "outputId": "ee777925-ee61-4f81-d737-22c4de05e96c"
   },
   "outputs": [
    {
     "name": "stdout",
     "output_type": "stream",
     "text": [
      "Перваяпара\n"
     ]
    }
   ],
   "source": [
    "print('Первая' + 'пара')"
   ]
  },
  {
   "cell_type": "code",
   "execution_count": 45,
   "id": "fbc06aa4",
   "metadata": {},
   "outputs": [
    {
     "name": "stdout",
     "output_type": "stream",
     "text": [
      "Первая пара\n"
     ]
    }
   ],
   "source": [
    "print('Первая', 'пара')"
   ]
  },
  {
   "cell_type": "code",
   "execution_count": 46,
   "id": "36847469",
   "metadata": {},
   "outputs": [],
   "source": [
    "?print"
   ]
  },
  {
   "cell_type": "code",
   "execution_count": 49,
   "id": "7cf0a7a3",
   "metadata": {
    "id": "7cf0a7a3",
    "outputId": "fd5e70f1-de85-4130-8529-134af42a1df0"
   },
   "outputs": [
    {
     "name": "stdout",
     "output_type": "stream",
     "text": [
      "У меня проблемапроблемапроблемапроблемапроблемапроблемапроблемапроблемапроблемапроблемапроблемапроблемапроблемапроблемапроблемапроблемапроблемапроблемапроблемапроблема\n"
     ]
    }
   ],
   "source": [
    "print('У меня '+ 'проблема'*20)"
   ]
  },
  {
   "cell_type": "markdown",
   "id": "ce45dd01",
   "metadata": {
    "id": "ce45dd01"
   },
   "source": [
    "Ещё строки можно\n",
    "- складывать (склеивать)\n",
    "- умножать на число (раскопировать n-ное кол-во раз)\n",
    "- использовать встроенные методы (об этом поговорим попозже)"
   ]
  },
  {
   "cell_type": "code",
   "execution_count": null,
   "id": "a9290666",
   "metadata": {
    "id": "a9290666",
    "outputId": "710dd376-eb0d-4cd6-9fd9-26d0268e1e70"
   },
   "outputs": [
    {
     "name": "stdout",
     "output_type": "stream",
     "text": [
      "how\n",
      "how are\n",
      "howhowhow\n",
      " are areyou?\n"
     ]
    }
   ],
   "source": [
    "print('how')\n",
    "print('how' + ' ' + 'are')\n",
    "print('how' * 3)\n",
    "print(' are' * 2 + 'you?')"
   ]
  },
  {
   "cell_type": "markdown",
   "id": "b4f553db",
   "metadata": {
    "id": "b4f553db"
   },
   "source": [
    "На что обратить внимание:\n",
    "- выражение `1` это число\n",
    "- выражение `'1'` это строка\n",
    "\n",
    "Почувствуйте разницу:"
   ]
  },
  {
   "cell_type": "code",
   "execution_count": null,
   "id": "17cc4717",
   "metadata": {
    "id": "17cc4717",
    "outputId": "2bc7b312-7be7-4c80-987f-4f22b124cc34"
   },
   "outputs": [
    {
     "name": "stdout",
     "output_type": "stream",
     "text": [
      "3\n",
      "12\n",
      "12\n"
     ]
    }
   ],
   "source": [
    "print(1 + 2)  # печатает число\n",
    "print('1' + '2')  # печатает результат склеивания строк\n",
    "print(str(1) + str(2))  # функция str преобразует аргумент в строку"
   ]
  },
  {
   "cell_type": "code",
   "execution_count": 50,
   "id": "ed59e83a",
   "metadata": {},
   "outputs": [
    {
     "data": {
      "text/plain": [
       "1"
      ]
     },
     "execution_count": 50,
     "metadata": {},
     "output_type": "execute_result"
    }
   ],
   "source": [
    "int('1')"
   ]
  },
  {
   "cell_type": "code",
   "execution_count": 51,
   "id": "e221bf08",
   "metadata": {},
   "outputs": [
    {
     "data": {
      "text/plain": [
       "'1'"
      ]
     },
     "execution_count": 51,
     "metadata": {},
     "output_type": "execute_result"
    }
   ],
   "source": [
    "str(1)"
   ]
  },
  {
   "cell_type": "code",
   "execution_count": 52,
   "id": "e8af80e6",
   "metadata": {},
   "outputs": [
    {
     "data": {
      "text/plain": [
       "1.0"
      ]
     },
     "execution_count": 52,
     "metadata": {},
     "output_type": "execute_result"
    }
   ],
   "source": [
    "float(1)"
   ]
  },
  {
   "cell_type": "code",
   "execution_count": 53,
   "id": "0fec8f9a",
   "metadata": {},
   "outputs": [
    {
     "data": {
      "text/plain": [
       "1.0"
      ]
     },
     "execution_count": 53,
     "metadata": {},
     "output_type": "execute_result"
    }
   ],
   "source": [
    "float('1')"
   ]
  },
  {
   "cell_type": "code",
   "execution_count": 54,
   "id": "dd22a277",
   "metadata": {},
   "outputs": [
    {
     "data": {
      "text/plain": [
       "'4.5'"
      ]
     },
     "execution_count": 54,
     "metadata": {},
     "output_type": "execute_result"
    }
   ],
   "source": [
    "str(4.5)"
   ]
  },
  {
   "cell_type": "code",
   "execution_count": 57,
   "id": "5f9cbd4e",
   "metadata": {},
   "outputs": [
    {
     "name": "stdout",
     "output_type": "stream",
     "text": [
      "9hello\n"
     ]
    }
   ],
   "source": [
    "print(str(4+5) + 'hello')"
   ]
  },
  {
   "cell_type": "markdown",
   "id": "10c93a2f",
   "metadata": {
    "id": "10c93a2f"
   },
   "source": [
    "## Переменные"
   ]
  },
  {
   "cell_type": "markdown",
   "id": "ee9631a0",
   "metadata": {
    "id": "ee9631a0"
   },
   "source": [
    "В Python мы можем записывать в переменные какие-либо значения (или наборы значений):"
   ]
  },
  {
   "cell_type": "code",
   "execution_count": 62,
   "id": "07280e73",
   "metadata": {
    "id": "07280e73"
   },
   "outputs": [],
   "source": [
    "number = 99\n",
    "my_name = 'Python'"
   ]
  },
  {
   "cell_type": "code",
   "execution_count": 58,
   "id": "40c5b441",
   "metadata": {
    "id": "40c5b441",
    "outputId": "4d7eda14-e3a4-4e42-b073-da0b433f282a"
   },
   "outputs": [
    {
     "name": "stdout",
     "output_type": "stream",
     "text": [
      "99\n",
      "Python\n"
     ]
    }
   ],
   "source": [
    "print(number)\n",
    "print(my_name)"
   ]
  },
  {
   "cell_type": "code",
   "execution_count": 65,
   "id": "51833244",
   "metadata": {},
   "outputs": [],
   "source": [
    "number = 10"
   ]
  },
  {
   "cell_type": "code",
   "execution_count": 60,
   "id": "38cf413c",
   "metadata": {},
   "outputs": [
    {
     "name": "stdout",
     "output_type": "stream",
     "text": [
      "10\n"
     ]
    }
   ],
   "source": [
    "print(number)"
   ]
  },
  {
   "cell_type": "markdown",
   "id": "6780c3ab",
   "metadata": {
    "id": "6780c3ab"
   },
   "source": [
    "Если мы будем реализовывать какие-то действия с переменными, то они будут осуществляться со значениями, которые записаны в эти переменные:"
   ]
  },
  {
   "cell_type": "code",
   "execution_count": 66,
   "id": "3d03b121",
   "metadata": {
    "id": "3d03b121",
    "outputId": "28b98a90-d736-457f-cdee-a0d07369a2a7",
    "scrolled": false
   },
   "outputs": [
    {
     "name": "stdout",
     "output_type": "stream",
     "text": [
      "PythonPythonPythonPythonPythonPythonPythonPythonPythonPython\n"
     ]
    }
   ],
   "source": [
    "print(number*my_name)"
   ]
  },
  {
   "cell_type": "code",
   "execution_count": 67,
   "id": "2243f445",
   "metadata": {},
   "outputs": [
    {
     "data": {
      "text/plain": [
       "int"
      ]
     },
     "execution_count": 67,
     "metadata": {},
     "output_type": "execute_result"
    }
   ],
   "source": [
    "type(number)"
   ]
  },
  {
   "cell_type": "code",
   "execution_count": 68,
   "id": "9ee0f6ca",
   "metadata": {},
   "outputs": [
    {
     "data": {
      "text/plain": [
       "str"
      ]
     },
     "execution_count": 68,
     "metadata": {},
     "output_type": "execute_result"
    }
   ],
   "source": [
    "type(my_name)"
   ]
  },
  {
   "cell_type": "markdown",
   "id": "d489c20f",
   "metadata": {},
   "source": [
    "## Ввод данных\n",
    "\n",
    "Чтобы мы могли передать данные нашей программе существует функция `input()`, которая при запуске выводит окошко для ввода текста.\n",
    "После того, как вы ввели в окошке текст, нужно нажать клавишу `Enter`. Функция отработает и положит в переменную все то, что вы напечатали в окошке."
   ]
  },
  {
   "cell_type": "code",
   "execution_count": 74,
   "id": "4722cb7e",
   "metadata": {
    "scrolled": true
   },
   "outputs": [
    {
     "name": "stdout",
     "output_type": "stream",
     "text": [
      "Ольга\n"
     ]
    }
   ],
   "source": [
    "name = input()"
   ]
  },
  {
   "cell_type": "code",
   "execution_count": 87,
   "id": "4594717f",
   "metadata": {},
   "outputs": [
    {
     "name": "stdout",
     "output_type": "stream",
     "text": [
      "Ольга, как дела? Python, 10\n"
     ]
    }
   ],
   "source": [
    "print(f'{name}, как дела? {my_name}, {number}')"
   ]
  },
  {
   "cell_type": "code",
   "execution_count": 79,
   "id": "c6db3e95",
   "metadata": {},
   "outputs": [
    {
     "data": {
      "text/plain": [
       "str"
      ]
     },
     "execution_count": 79,
     "metadata": {},
     "output_type": "execute_result"
    }
   ],
   "source": [
    "type(name) # по умолчанию функция input() сохраняет в переменную все введенное в формате `str`"
   ]
  },
  {
   "cell_type": "code",
   "execution_count": 91,
   "id": "729a663b",
   "metadata": {},
   "outputs": [
    {
     "name": "stdout",
     "output_type": "stream",
     "text": [
      "10\n"
     ]
    }
   ],
   "source": [
    "age = input() # но если нам на вход нужно считать `int`, то достаточно просто обернуть функцию input() функцией int() "
   ]
  },
  {
   "cell_type": "code",
   "execution_count": 92,
   "id": "ef96e4f9",
   "metadata": {},
   "outputs": [
    {
     "ename": "TypeError",
     "evalue": "can only concatenate str (not \"int\") to str",
     "output_type": "error",
     "traceback": [
      "\u001b[0;31m---------------------------------------------------------------------------\u001b[0m",
      "\u001b[0;31mTypeError\u001b[0m                                 Traceback (most recent call last)",
      "\u001b[0;32m/var/folders/qc/dzy0dz5x47q2yd53pdc35csr0000gn/T/ipykernel_19442/2121917004.py\u001b[0m in \u001b[0;36m<module>\u001b[0;34m\u001b[0m\n\u001b[0;32m----> 1\u001b[0;31m \u001b[0mage\u001b[0m \u001b[0;34m+\u001b[0m \u001b[0;36m1\u001b[0m\u001b[0;34m\u001b[0m\u001b[0;34m\u001b[0m\u001b[0m\n\u001b[0m",
      "\u001b[0;31mTypeError\u001b[0m: can only concatenate str (not \"int\") to str"
     ]
    }
   ],
   "source": [
    "age + 1"
   ]
  },
  {
   "cell_type": "code",
   "execution_count": 89,
   "id": "b0304e22",
   "metadata": {},
   "outputs": [
    {
     "data": {
      "text/plain": [
       "int"
      ]
     },
     "execution_count": 89,
     "metadata": {},
     "output_type": "execute_result"
    }
   ],
   "source": [
    "type(age)"
   ]
  },
  {
   "cell_type": "code",
   "execution_count": 93,
   "id": "7bc8eb6f",
   "metadata": {},
   "outputs": [
    {
     "name": "stdout",
     "output_type": "stream",
     "text": [
      "10\n"
     ]
    },
    {
     "data": {
      "text/plain": [
       "'2.5'"
      ]
     },
     "execution_count": 93,
     "metadata": {},
     "output_type": "execute_result"
    }
   ],
   "source": [
    "str(int(input())/4)"
   ]
  },
  {
   "cell_type": "code",
   "execution_count": null,
   "id": "3607c6ff",
   "metadata": {},
   "outputs": [],
   "source": [
    "name = input()"
   ]
  },
  {
   "cell_type": "code",
   "execution_count": null,
   "id": "c86b722f",
   "metadata": {},
   "outputs": [],
   "source": [
    "money = float(input())"
   ]
  },
  {
   "cell_type": "code",
   "execution_count": null,
   "id": "fa18145a",
   "metadata": {},
   "outputs": [],
   "source": [
    "children = int(input())"
   ]
  },
  {
   "cell_type": "markdown",
   "id": "b2357297",
   "metadata": {
    "id": "b2357297"
   },
   "source": [
    "## Ошибки в Python и что с ними делать\n",
    "\n",
    "Иногда написанный код не работает. Так бывает. Это не страшно.\n",
    "\n",
    "Например, я хочу вывести на экран текст следующего вида:\n",
    "```\n",
    "День недели: суббота.\n",
    "Моё имя: Дарья\n",
    "Время на часах: 13\n",
    "```\n",
    "\n",
    "Я написала свой код в ячейке ниже.\n",
    "\n",
    "Выполните следующую ячейку (казалось бы, что может пойти не так?):"
   ]
  },
  {
   "cell_type": "code",
   "execution_count": 95,
   "id": "479c3e4f",
   "metadata": {
    "id": "479c3e4f",
    "outputId": "cd6fce70-2cf4-43ff-cef1-173ce3278928"
   },
   "outputs": [
    {
     "name": "stdout",
     "output_type": "stream",
     "text": [
      "День недели: суббота.\n",
      "Моё имя: Дарья\n"
     ]
    },
    {
     "ename": "TypeError",
     "evalue": "can only concatenate str (not \"int\") to str",
     "output_type": "error",
     "traceback": [
      "\u001b[0;31m---------------------------------------------------------------------------\u001b[0m",
      "\u001b[0;31mTypeError\u001b[0m                                 Traceback (most recent call last)",
      "\u001b[0;32m/var/folders/qc/dzy0dz5x47q2yd53pdc35csr0000gn/T/ipykernel_19442/1509364448.py\u001b[0m in \u001b[0;36m<module>\u001b[0;34m\u001b[0m\n\u001b[1;32m      1\u001b[0m \u001b[0mprint\u001b[0m\u001b[0;34m(\u001b[0m\u001b[0;34m'День недели: суббота.'\u001b[0m\u001b[0;34m)\u001b[0m\u001b[0;34m\u001b[0m\u001b[0;34m\u001b[0m\u001b[0m\n\u001b[1;32m      2\u001b[0m \u001b[0mprint\u001b[0m\u001b[0;34m(\u001b[0m\u001b[0;34m'Моё имя: '\u001b[0m \u001b[0;34m+\u001b[0m \u001b[0;34m'Дарья'\u001b[0m\u001b[0;34m)\u001b[0m\u001b[0;34m\u001b[0m\u001b[0;34m\u001b[0m\u001b[0m\n\u001b[0;32m----> 3\u001b[0;31m \u001b[0mprint\u001b[0m\u001b[0;34m(\u001b[0m\u001b[0;34m'Время на часах: '\u001b[0m \u001b[0;34m+\u001b[0m \u001b[0;36m13\u001b[0m\u001b[0;34m)\u001b[0m\u001b[0;34m\u001b[0m\u001b[0;34m\u001b[0m\u001b[0m\n\u001b[0m",
      "\u001b[0;31mTypeError\u001b[0m: can only concatenate str (not \"int\") to str"
     ]
    }
   ],
   "source": [
    "print('День недели: суббота.')\n",
    "print('Моё имя: ' + 'Дарья')\n",
    "print('Время на часах: ' + 13)"
   ]
  },
  {
   "cell_type": "markdown",
   "id": "005fb52e",
   "metadata": {},
   "source": [
    "Всегда читайте последнюю строку ошибки – это поможет найти, что пошло не так.\n",
    "\n",
    "`----> 3 print('Время на часах: ' + 13)`\n",
    "\n",
    "Стрелочка указывает, на какой строке кода питон столкнулся с ошибкой и не смог выполнить какое-то действие.\n",
    "\n",
    "`TypeError: can only concatenate str (not \"int\") to str`\n",
    "\n",
    "Ошибка TypeError буквально переводится \"ошибка типа данных\". А через двоеточие разворачивает мысль: \"Я умею складывать (склеивать) строку только со строкой. А ты просишь склеить строку с целым числом. Я так не умею.\"\n"
   ]
  },
  {
   "cell_type": "code",
   "execution_count": 97,
   "id": "ade718e7",
   "metadata": {},
   "outputs": [
    {
     "name": "stdout",
     "output_type": "stream",
     "text": [
      "Время на часах: 13\n"
     ]
    }
   ],
   "source": [
    "print('Время на часах: ' + '13')"
   ]
  },
  {
   "cell_type": "code",
   "execution_count": 101,
   "id": "72b5b449",
   "metadata": {},
   "outputs": [
    {
     "name": "stdout",
     "output_type": "stream",
     "text": [
      "Дарья\n",
      "Марья\n",
      "Глаша\n",
      "Приветствуем вас, Дарья, Марья, Глаша.\n"
     ]
    }
   ],
   "source": [
    "# Считать три имени подряд\n",
    "person1 = input()\n",
    "person2 = input()\n",
    "person3 = input()\n",
    "\n",
    "# Напечатать одно приветствие для всех трех людей\n",
    "print('Приветствуем вас, ' + person1 + ', ' + person2 + ', ' + person3 + '.')"
   ]
  },
  {
   "cell_type": "code",
   "execution_count": 113,
   "id": "8cb80ca4",
   "metadata": {},
   "outputs": [
    {
     "name": "stdout",
     "output_type": "stream",
     "text": [
      "Приветствуем вас, Дарья, Марья, Глаша\n"
     ]
    }
   ],
   "source": [
    "print('Приветствуем вас', person1, person2, person3, sep=\", \")"
   ]
  },
  {
   "cell_type": "code",
   "execution_count": 114,
   "id": "fb602d95",
   "metadata": {},
   "outputs": [
    {
     "name": "stdout",
     "output_type": "stream",
     "text": [
      "Дарья\n",
      "Марья\n",
      "Глаша\n",
      "Приветствуем вас, Дарья,  Марья,  Глаша.\n"
     ]
    }
   ],
   "source": [
    "name1 = input()\n",
    "name2 = input()\n",
    "name3 = input()\n",
    "\n",
    "print(f'Приветствуем вас, {name1},  {name2},  {name3}.')"
   ]
  },
  {
   "cell_type": "code",
   "execution_count": 115,
   "id": "50344a20",
   "metadata": {},
   "outputs": [
    {
     "name": "stdout",
     "output_type": "stream",
     "text": [
      "1 2 3\n"
     ]
    }
   ],
   "source": [
    "print(1, 2, 3)"
   ]
  },
  {
   "cell_type": "code",
   "execution_count": 117,
   "id": "931bf766",
   "metadata": {},
   "outputs": [
    {
     "name": "stdout",
     "output_type": "stream",
     "text": [
      "введите свое имя: Дарья\n"
     ]
    }
   ],
   "source": [
    "name = input()"
   ]
  },
  {
   "cell_type": "code",
   "execution_count": 118,
   "id": "f4e1da95",
   "metadata": {},
   "outputs": [
    {
     "name": "stdout",
     "output_type": "stream",
     "text": [
      "Дарья\n"
     ]
    }
   ],
   "source": [
    "print(name)"
   ]
  }
 ],
 "metadata": {
  "colab": {
   "provenance": []
  },
  "kernelspec": {
   "display_name": "Python 3 (ipykernel)",
   "language": "python",
   "name": "python3"
  },
  "language_info": {
   "codemirror_mode": {
    "name": "ipython",
    "version": 3
   },
   "file_extension": ".py",
   "mimetype": "text/x-python",
   "name": "python",
   "nbconvert_exporter": "python",
   "pygments_lexer": "ipython3",
   "version": "3.9.7"
  }
 },
 "nbformat": 4,
 "nbformat_minor": 5
}
