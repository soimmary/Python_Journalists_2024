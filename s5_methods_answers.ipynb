{
 "cells": [
  {
   "cell_type": "markdown",
   "metadata": {
    "id": "9dc3498c"
   },
   "source": [
    "# Семинар 5. Методы строк и списков"
   ]
  },
  {
   "cell_type": "markdown",
   "metadata": {
    "id": "3OBdh7hLDV4x"
   },
   "source": [
    "## Методы списков"
   ]
  },
  {
   "cell_type": "markdown",
   "metadata": {
    "id": "l8UShsm6VV_J"
   },
   "source": [
    "* `.split()` делает из строки список\n"
   ]
  },
  {
   "cell_type": "code",
   "execution_count": 2,
   "metadata": {
    "colab": {
     "base_uri": "https://localhost:8080/"
    },
    "executionInfo": {
     "elapsed": 316,
     "status": "ok",
     "timestamp": 1706965101417,
     "user": {
      "displayName": "Daria Kasyanenko",
      "userId": "03372279434616250424"
     },
     "user_tz": -180
    },
    "id": "D0gnGXOKWNfi",
    "outputId": "8707195d-3412-48aa-fe0c-5b43c826fabc"
   },
   "outputs": [
    {
     "name": "stdout",
     "output_type": "stream",
     "text": [
      "['one', 'two', 'three']\n"
     ]
    }
   ],
   "source": [
    "lst = 'one, two, three'.split(', ')\n",
    "print(lst)"
   ]
  },
  {
   "cell_type": "markdown",
   "metadata": {
    "id": "qRykdwMMXQMj"
   },
   "source": [
    "* `.append()` добавляет в существующий список новый элемент;"
   ]
  },
  {
   "cell_type": "code",
   "execution_count": 32,
   "metadata": {
    "colab": {
     "base_uri": "https://localhost:8080/"
    },
    "executionInfo": {
     "elapsed": 304,
     "status": "ok",
     "timestamp": 1706965103917,
     "user": {
      "displayName": "Daria Kasyanenko",
      "userId": "03372279434616250424"
     },
     "user_tz": -180
    },
    "id": "fjsAQVAhVoFf",
    "outputId": "611c067a-df00-45ca-9365-efd7db7ea4d7"
   },
   "outputs": [
    {
     "name": "stdout",
     "output_type": "stream",
     "text": [
      "['one', 'two', 'three', 'four']\n"
     ]
    }
   ],
   "source": [
    "lst = ['one', 'two', 'three']\n",
    "lst.append('four')\n",
    "print(lst)"
   ]
  },
  {
   "cell_type": "markdown",
   "metadata": {
    "id": "HIW-2gGoXS13"
   },
   "source": [
    "* `.remove()` удаляет из существующего списка указанный элемент;"
   ]
  },
  {
   "cell_type": "code",
   "execution_count": 4,
   "metadata": {
    "colab": {
     "base_uri": "https://localhost:8080/"
    },
    "executionInfo": {
     "elapsed": 256,
     "status": "ok",
     "timestamp": 1706965106104,
     "user": {
      "displayName": "Daria Kasyanenko",
      "userId": "03372279434616250424"
     },
     "user_tz": -180
    },
    "id": "AQKdFENKWb_5",
    "outputId": "e690b012-eafe-4c5d-887c-d7aba77ae3a2"
   },
   "outputs": [
    {
     "name": "stdout",
     "output_type": "stream",
     "text": [
      "['one', 'two', 'three']\n"
     ]
    }
   ],
   "source": [
    "lst = ['one', 'two', 'three', 'four']\n",
    "lst.remove('four')\n",
    "print(lst)"
   ]
  },
  {
   "cell_type": "markdown",
   "metadata": {
    "id": "A3zV2drzXXF9"
   },
   "source": [
    "* `.index()` находит индекс первого элемента, совпадающего с указанным"
   ]
  },
  {
   "cell_type": "code",
   "execution_count": 5,
   "metadata": {
    "colab": {
     "base_uri": "https://localhost:8080/"
    },
    "executionInfo": {
     "elapsed": 302,
     "status": "ok",
     "timestamp": 1706965108373,
     "user": {
      "displayName": "Daria Kasyanenko",
      "userId": "03372279434616250424"
     },
     "user_tz": -180
    },
    "id": "goDVp3QuWl7H",
    "outputId": "f24ec444-9fcd-4cba-b919-681193d82ef5"
   },
   "outputs": [
    {
     "name": "stdout",
     "output_type": "stream",
     "text": [
      "1\n"
     ]
    }
   ],
   "source": [
    "lst = ['one', 'two', 'three']\n",
    "print(lst.index('two'))"
   ]
  },
  {
   "cell_type": "markdown",
   "metadata": {
    "id": "xQ9XZBBFXg8L"
   },
   "source": [
    "* `.count()` подсчитывает, сколько раз указанный элемент входит в список"
   ]
  },
  {
   "cell_type": "code",
   "execution_count": 33,
   "metadata": {
    "colab": {
     "base_uri": "https://localhost:8080/"
    },
    "executionInfo": {
     "elapsed": 3,
     "status": "ok",
     "timestamp": 1706965111786,
     "user": {
      "displayName": "Daria Kasyanenko",
      "userId": "03372279434616250424"
     },
     "user_tz": -180
    },
    "id": "hHrvPCQaWzw4",
    "outputId": "8c4e9e8f-0b2b-41b0-9eb7-113dc71c507a"
   },
   "outputs": [
    {
     "name": "stdout",
     "output_type": "stream",
     "text": [
      "3\n"
     ]
    }
   ],
   "source": [
    "lst = ['one', 'two', 'three', 'two', 'two']\n",
    "print(lst.count('two'))"
   ]
  },
  {
   "cell_type": "markdown",
   "metadata": {
    "id": "b-tSnpzgYYXo"
   },
   "source": [
    "### Функции списков"
   ]
  },
  {
   "cell_type": "markdown",
   "metadata": {
    "id": "-pQjJDBpYdLd"
   },
   "source": [
    "* `sum()` cумма списка"
   ]
  },
  {
   "cell_type": "code",
   "execution_count": 7,
   "metadata": {
    "colab": {
     "base_uri": "https://localhost:8080/"
    },
    "executionInfo": {
     "elapsed": 302,
     "status": "ok",
     "timestamp": 1706965114761,
     "user": {
      "displayName": "Daria Kasyanenko",
      "userId": "03372279434616250424"
     },
     "user_tz": -180
    },
    "id": "-JOLrw3xY3Vc",
    "outputId": "52c142c6-41da-43c4-c918-c0bf4db14631"
   },
   "outputs": [
    {
     "name": "stdout",
     "output_type": "stream",
     "text": [
      "1\n"
     ]
    }
   ],
   "source": [
    "num = [1, 2, 3, 4]\n",
    "print(min(num))"
   ]
  },
  {
   "cell_type": "markdown",
   "metadata": {
    "id": "uxHluvHkDLzA"
   },
   "source": [
    "* `min()` минимум в списке"
   ]
  },
  {
   "cell_type": "code",
   "execution_count": 8,
   "metadata": {
    "colab": {
     "base_uri": "https://localhost:8080/"
    },
    "executionInfo": {
     "elapsed": 249,
     "status": "ok",
     "timestamp": 1706965116957,
     "user": {
      "displayName": "Daria Kasyanenko",
      "userId": "03372279434616250424"
     },
     "user_tz": -180
    },
    "id": "McQTCwyQeIBn",
    "outputId": "5d9dae6a-8115-4fc5-a055-eb599e38a212"
   },
   "outputs": [
    {
     "name": "stdout",
     "output_type": "stream",
     "text": [
      "1\n"
     ]
    }
   ],
   "source": [
    "abc = ['г', 'б', 'я', 'а', '1']\n",
    "print(min(abc))"
   ]
  },
  {
   "cell_type": "markdown",
   "metadata": {
    "id": "77RRBI7-Y57k"
   },
   "source": [
    "* `max()` максимум в списке"
   ]
  },
  {
   "cell_type": "code",
   "execution_count": null,
   "metadata": {
    "colab": {
     "base_uri": "https://localhost:8080/"
    },
    "executionInfo": {
     "elapsed": 352,
     "status": "ok",
     "timestamp": 1674423072282,
     "user": {
      "displayName": "Таня Перевышина",
      "userId": "17222556831728321946"
     },
     "user_tz": -180
    },
    "id": "GQxVLMF4Y__D",
    "outputId": "37875afa-2be6-4190-d8f6-063802b109d1"
   },
   "outputs": [
    {
     "name": "stdout",
     "output_type": "stream",
     "text": [
      "4\n"
     ]
    }
   ],
   "source": [
    "num = [1, 2, 3, 4]\n",
    "print(max(num))"
   ]
  },
  {
   "cell_type": "code",
   "execution_count": null,
   "metadata": {
    "colab": {
     "base_uri": "https://localhost:8080/"
    },
    "executionInfo": {
     "elapsed": 256,
     "status": "ok",
     "timestamp": 1675172158930,
     "user": {
      "displayName": "Таня Перевышина",
      "userId": "17222556831728321946"
     },
     "user_tz": -180
    },
    "id": "6Hfz56YaeZl6",
    "outputId": "f7469c4c-4d10-414b-afe3-ff626f186e37"
   },
   "outputs": [
    {
     "name": "stdout",
     "output_type": "stream",
     "text": [
      "я\n"
     ]
    }
   ],
   "source": [
    "abc = ['а', 'г', 'б', 'я', 'z', '1', 'Я']\n",
    "print(max(abc))"
   ]
  },
  {
   "cell_type": "markdown",
   "metadata": {
    "id": "k_4lMgfLZIJu"
   },
   "source": [
    "* `len()` длина списка"
   ]
  },
  {
   "cell_type": "code",
   "execution_count": null,
   "metadata": {
    "colab": {
     "base_uri": "https://localhost:8080/"
    },
    "executionInfo": {
     "elapsed": 381,
     "status": "ok",
     "timestamp": 1674423105187,
     "user": {
      "displayName": "Таня Перевышина",
      "userId": "17222556831728321946"
     },
     "user_tz": -180
    },
    "id": "rTu8DfSVZM8N",
    "outputId": "f3f2cd11-261b-495c-a850-5f3f8ffd50df"
   },
   "outputs": [
    {
     "name": "stdout",
     "output_type": "stream",
     "text": [
      "4\n"
     ]
    }
   ],
   "source": [
    "num = [1, 2, 3, 4]\n",
    "print(len(num))"
   ]
  },
  {
   "cell_type": "markdown",
   "metadata": {
    "id": "ORCRQCKcdS7-"
   },
   "source": [
    "+ `sorted()` сортировка списка"
   ]
  },
  {
   "cell_type": "code",
   "execution_count": null,
   "metadata": {
    "colab": {
     "base_uri": "https://localhost:8080/"
    },
    "executionInfo": {
     "elapsed": 243,
     "status": "ok",
     "timestamp": 1674491416878,
     "user": {
      "displayName": "Таня Перевышина",
      "userId": "17222556831728321946"
     },
     "user_tz": -180
    },
    "id": "ULOB0EOjdcag",
    "outputId": "9d5c62f1-1886-48d4-c10d-6d86c39316dd"
   },
   "outputs": [
    {
     "name": "stdout",
     "output_type": "stream",
     "text": [
      "[1, 2, 3, 4]\n",
      "['a', 'c', 'w']\n"
     ]
    }
   ],
   "source": [
    "num = [2, 1, 3, 4]\n",
    "abc = ['a', 'w', 'c']\n",
    "print(sorted(num)) #по возрастанию\n",
    "print(sorted(abc)) #по возрастанию"
   ]
  },
  {
   "cell_type": "code",
   "execution_count": null,
   "metadata": {
    "colab": {
     "base_uri": "https://localhost:8080/"
    },
    "executionInfo": {
     "elapsed": 274,
     "status": "ok",
     "timestamp": 1674491481599,
     "user": {
      "displayName": "Таня Перевышина",
      "userId": "17222556831728321946"
     },
     "user_tz": -180
    },
    "id": "KaEcKy1Zd2uE",
    "outputId": "da3fcb18-b66c-4fa1-c228-02a4508e3cec"
   },
   "outputs": [
    {
     "name": "stdout",
     "output_type": "stream",
     "text": [
      "[4, 3, 2, 1]\n",
      "['w', 'c', 'a']\n"
     ]
    }
   ],
   "source": [
    "num = [2, 1, 3, 4]\n",
    "abc = ['a', 'w', 'c']\n",
    "print(sorted(num, reverse = True)) #по убыванию\n",
    "print(sorted(abc, reverse = True)) #по убыванию"
   ]
  },
  {
   "cell_type": "markdown",
   "metadata": {
    "id": "a1ykojou6Qa0"
   },
   "source": [
    "### Конвертация строчных объектов списка в числа"
   ]
  },
  {
   "cell_type": "code",
   "execution_count": null,
   "metadata": {
    "colab": {
     "base_uri": "https://localhost:8080/"
    },
    "executionInfo": {
     "elapsed": 368,
     "status": "ok",
     "timestamp": 1675172304291,
     "user": {
      "displayName": "Таня Перевышина",
      "userId": "17222556831728321946"
     },
     "user_tz": -180
    },
    "id": "Z7cxIwOw6XBe",
    "outputId": "624b80c8-159e-4691-883f-54930897f9d5"
   },
   "outputs": [
    {
     "name": "stdout",
     "output_type": "stream",
     "text": [
      "[1, 2, 3]\n"
     ]
    }
   ],
   "source": [
    "a = ['1', '2', '3']\n",
    "b = list(map(int, a))\n",
    "print(b)"
   ]
  },
  {
   "cell_type": "code",
   "execution_count": null,
   "metadata": {
    "colab": {
     "base_uri": "https://localhost:8080/"
    },
    "executionInfo": {
     "elapsed": 246,
     "status": "ok",
     "timestamp": 1674499117549,
     "user": {
      "displayName": "Таня Перевышина",
      "userId": "17222556831728321946"
     },
     "user_tz": -180
    },
    "id": "tSbrD_vp6XY9",
    "outputId": "9458f2f0-5ccd-4660-de0c-1855af7bede3"
   },
   "outputs": [
    {
     "data": {
      "text/plain": [
       "[1.0, 2.0, 3.0]"
      ]
     },
     "execution_count": 32,
     "metadata": {},
     "output_type": "execute_result"
    }
   ],
   "source": [
    "a = ['1', '2', '3']\n",
    "list(map(float, a))"
   ]
  },
  {
   "cell_type": "code",
   "execution_count": null,
   "metadata": {
    "colab": {
     "base_uri": "https://localhost:8080/"
    },
    "executionInfo": {
     "elapsed": 7935,
     "status": "ok",
     "timestamp": 1675845165090,
     "user": {
      "displayName": "Таня Перевышина",
      "userId": "17222556831728321946"
     },
     "user_tz": -180
    },
    "id": "u9G1HYJg7PMw",
    "outputId": "054a5ec5-4d97-44cc-9b0a-c9487f02e616"
   },
   "outputs": [
    {
     "name": "stdout",
     "output_type": "stream",
     "text": [
      "1 4 5\n",
      "[1, 4, 5]\n"
     ]
    }
   ],
   "source": [
    "a = list(map(int, input().split()))\n",
    "print(a)"
   ]
  },
  {
   "cell_type": "markdown",
   "metadata": {
    "id": "hGM0UAtKW--R"
   },
   "source": [
    "## Методы строк"
   ]
  },
  {
   "cell_type": "markdown",
   "metadata": {
    "id": "LNlb0PvgZfSi"
   },
   "source": [
    "+ `.join()` делает из списка строку"
   ]
  },
  {
   "cell_type": "code",
   "execution_count": null,
   "metadata": {
    "colab": {
     "base_uri": "https://localhost:8080/",
     "height": 36
    },
    "executionInfo": {
     "elapsed": 359,
     "status": "ok",
     "timestamp": 1675852077764,
     "user": {
      "displayName": "Таня Перевышина",
      "userId": "17222556831728321946"
     },
     "user_tz": -180
    },
    "id": "WzYahWDAZxXU",
    "outputId": "09575b1c-dc9b-41a6-88b2-7c376262dd1e"
   },
   "outputs": [
    {
     "data": {
      "application/vnd.google.colaboratory.intrinsic+json": {
       "type": "string"
      },
      "text/plain": [
       "'one*two*three'"
      ]
     },
     "execution_count": 14,
     "metadata": {},
     "output_type": "execute_result"
    }
   ],
   "source": [
    "s = ['one', 'two', 'three']\n",
    "\"*\".join(s)"
   ]
  },
  {
   "cell_type": "markdown",
   "metadata": {
    "id": "Q0KNGLVeaIba"
   },
   "source": [
    "* `.isdigit()` позволяет проверить, что строка состоит только из цифр;"
   ]
  },
  {
   "cell_type": "code",
   "execution_count": 34,
   "metadata": {
    "colab": {
     "base_uri": "https://localhost:8080/"
    },
    "executionInfo": {
     "elapsed": 414,
     "status": "ok",
     "timestamp": 1674423438190,
     "user": {
      "displayName": "Таня Перевышина",
      "userId": "17222556831728321946"
     },
     "user_tz": -180
    },
    "id": "Rttbo49XaMXL",
    "outputId": "8757bc4f-3fd3-454e-a541-d60ee0641588"
   },
   "outputs": [
    {
     "name": "stdout",
     "output_type": "stream",
     "text": [
      "False\n",
      "True\n",
      "False\n"
     ]
    }
   ],
   "source": [
    "s1 = 'three'\n",
    "s2 = '3'\n",
    "s3 = 'three 3'\n",
    "print(s1.isdigit())\n",
    "print(s2.isdigit())\n",
    "print(s3.isdigit())"
   ]
  },
  {
   "cell_type": "markdown",
   "metadata": {
    "id": "cJ6gOvOQaiEg"
   },
   "source": [
    "+ `.isalpha()` позволяет проверить, что строка состоит только из букв"
   ]
  },
  {
   "cell_type": "code",
   "execution_count": 35,
   "metadata": {
    "colab": {
     "base_uri": "https://localhost:8080/"
    },
    "executionInfo": {
     "elapsed": 355,
     "status": "ok",
     "timestamp": 1674423523847,
     "user": {
      "displayName": "Таня Перевышина",
      "userId": "17222556831728321946"
     },
     "user_tz": -180
    },
    "id": "-zVsPcaoas8G",
    "outputId": "f7c84bb1-3ddc-492b-dbfd-06deb729008c"
   },
   "outputs": [
    {
     "name": "stdout",
     "output_type": "stream",
     "text": [
      "True\n",
      "False\n",
      "False\n"
     ]
    }
   ],
   "source": [
    "s1 = 'three'\n",
    "s2 = '3'\n",
    "s3 = 'three 3'\n",
    "print(s1.isalpha())\n",
    "print(s2.isalpha())\n",
    "print(s3.isalpha())"
   ]
  },
  {
   "cell_type": "markdown",
   "metadata": {
    "id": "9eV_TBmJa5CT"
   },
   "source": [
    "* `.isalnum()` позволяет проверить, что строка состоит только из букв или цифр;"
   ]
  },
  {
   "cell_type": "code",
   "execution_count": null,
   "metadata": {
    "colab": {
     "base_uri": "https://localhost:8080/"
    },
    "executionInfo": {
     "elapsed": 440,
     "status": "ok",
     "timestamp": 1675852293063,
     "user": {
      "displayName": "Таня Перевышина",
      "userId": "17222556831728321946"
     },
     "user_tz": -180
    },
    "id": "zH6jOV3EbBVC",
    "outputId": "75dcacd7-b808-440b-c1b7-bc6faa157c37"
   },
   "outputs": [
    {
     "name": "stdout",
     "output_type": "stream",
     "text": [
      "True\n",
      "True\n",
      "True\n"
     ]
    }
   ],
   "source": [
    "s1 = 'three'\n",
    "s2 = '3'\n",
    "s3 = 'three3'\n",
    "print(s1.isalnum())\n",
    "print(s2.isalnum())\n",
    "print(s3.isalnum())"
   ]
  },
  {
   "cell_type": "markdown",
   "metadata": {
    "id": "4OvCLCy8bR6R"
   },
   "source": [
    "* `.islower()` позволяет проверить, что строка состоит только из букв нижнего регистра (строчных);"
   ]
  },
  {
   "cell_type": "code",
   "execution_count": null,
   "metadata": {
    "colab": {
     "base_uri": "https://localhost:8080/"
    },
    "executionInfo": {
     "elapsed": 343,
     "status": "ok",
     "timestamp": 1674423823599,
     "user": {
      "displayName": "Таня Перевышина",
      "userId": "17222556831728321946"
     },
     "user_tz": -180
    },
    "id": "_FxkRduSbVkI",
    "outputId": "47232b45-371b-4243-c547-264fa4f5cf68"
   },
   "outputs": [
    {
     "name": "stdout",
     "output_type": "stream",
     "text": [
      "True\n",
      "False\n",
      "False\n"
     ]
    }
   ],
   "source": [
    "s1 = 'three'\n",
    "s2 = 'THree'\n",
    "s3 = 'THREE'\n",
    "print(s1.islower())\n",
    "print(s2.islower())\n",
    "print(s3.islower())"
   ]
  },
  {
   "cell_type": "markdown",
   "metadata": {
    "id": "H5eERC35btoR"
   },
   "source": [
    "* `.isupper()` позволяет проверить, что строка состоит только из букв верхнего регистра (заглавных);"
   ]
  },
  {
   "cell_type": "code",
   "execution_count": null,
   "metadata": {
    "colab": {
     "base_uri": "https://localhost:8080/"
    },
    "executionInfo": {
     "elapsed": 4,
     "status": "ok",
     "timestamp": 1674423850661,
     "user": {
      "displayName": "Таня Перевышина",
      "userId": "17222556831728321946"
     },
     "user_tz": -180
    },
    "id": "haI21R6zb2Tb",
    "outputId": "449b1b75-6c1b-49c5-8c84-0ff232f7202a"
   },
   "outputs": [
    {
     "name": "stdout",
     "output_type": "stream",
     "text": [
      "False\n",
      "False\n",
      "True\n"
     ]
    }
   ],
   "source": [
    "s1 = 'three'\n",
    "s2 = 'THree'\n",
    "s3 = 'THREE'\n",
    "print(s1.isupper())\n",
    "print(s2.isupper())\n",
    "print(s3.isupper())"
   ]
  },
  {
   "cell_type": "markdown",
   "metadata": {
    "id": "VDSKd81tc0Ut"
   },
   "source": [
    "* `.strip()` позволяет создать новую строчку, удалив лишние символы по бокам исходной строки (например, лишние пробелы);"
   ]
  },
  {
   "cell_type": "code",
   "execution_count": 36,
   "metadata": {
    "colab": {
     "base_uri": "https://localhost:8080/",
     "height": 36
    },
    "executionInfo": {
     "elapsed": 856,
     "status": "ok",
     "timestamp": 1675852361534,
     "user": {
      "displayName": "Таня Перевышина",
      "userId": "17222556831728321946"
     },
     "user_tz": -180
    },
    "id": "DWTAnHk-c4BK",
    "outputId": "745dcfd1-db2d-4124-b024-44735d4ad3c4"
   },
   "outputs": [
    {
     "data": {
      "text/plain": [
       "'one'"
      ]
     },
     "execution_count": 36,
     "metadata": {},
     "output_type": "execute_result"
    }
   ],
   "source": [
    "s = ' one '\n",
    "s.strip()"
   ]
  },
  {
   "cell_type": "code",
   "execution_count": 38,
   "metadata": {
    "colab": {
     "base_uri": "https://localhost:8080/"
    },
    "executionInfo": {
     "elapsed": 548,
     "status": "ok",
     "timestamp": 1674424131944,
     "user": {
      "displayName": "Таня Перевышина",
      "userId": "17222556831728321946"
     },
     "user_tz": -180
    },
    "id": "CcGkHttCdE2u",
    "outputId": "7b835cc4-5b8e-4db8-c98c-7f37b13637cf"
   },
   "outputs": [
    {
     "name": "stdout",
     "output_type": "stream",
     "text": [
      "o_ne\n"
     ]
    }
   ],
   "source": [
    "s = '_o_ne_'\n",
    "print(s.strip('_'))"
   ]
  },
  {
   "cell_type": "markdown",
   "metadata": {
    "id": "1gMP1_RedMth"
   },
   "source": [
    "* `.replace()` позволяет создать новую строчку, заменив что-то в изначальной"
   ]
  },
  {
   "cell_type": "code",
   "execution_count": null,
   "metadata": {
    "colab": {
     "base_uri": "https://localhost:8080/"
    },
    "executionInfo": {
     "elapsed": 350,
     "status": "ok",
     "timestamp": 1675845665148,
     "user": {
      "displayName": "Таня Перевышина",
      "userId": "17222556831728321946"
     },
     "user_tz": -180
    },
    "id": "t-bisP7_dPPf",
    "outputId": "42d4a358-05cf-4b7c-f6c0-6fcc4cce8359"
   },
   "outputs": [
    {
     "name": "stdout",
     "output_type": "stream",
     "text": [
      "HELLO\n"
     ]
    }
   ],
   "source": [
    "s = 'HEllO'\n",
    "s1 = s.replace('l','L')\n",
    "print(s1)"
   ]
  },
  {
   "cell_type": "markdown",
   "metadata": {
    "id": "YImGjPmjdkHq"
   },
   "source": [
    "* `.count()` позволяет понять, сколько раз последовательность символов встречалась в строке"
   ]
  },
  {
   "cell_type": "code",
   "execution_count": null,
   "metadata": {
    "colab": {
     "base_uri": "https://localhost:8080/"
    },
    "executionInfo": {
     "elapsed": 362,
     "status": "ok",
     "timestamp": 1674424304845,
     "user": {
      "displayName": "Таня Перевышина",
      "userId": "17222556831728321946"
     },
     "user_tz": -180
    },
    "id": "UQ6iGUPYdoqh",
    "outputId": "c158b322-666f-4271-ff6b-c5d6d7df73e7"
   },
   "outputs": [
    {
     "name": "stdout",
     "output_type": "stream",
     "text": [
      "2\n"
     ]
    }
   ],
   "source": [
    "s = 'hello world'\n",
    "print(s.count('o'))"
   ]
  },
  {
   "cell_type": "code",
   "execution_count": null,
   "metadata": {
    "colab": {
     "base_uri": "https://localhost:8080/"
    },
    "executionInfo": {
     "elapsed": 358,
     "status": "ok",
     "timestamp": 1675852518007,
     "user": {
      "displayName": "Таня Перевышина",
      "userId": "17222556831728321946"
     },
     "user_tz": -180
    },
    "id": "9fwiX8W-d2N8",
    "outputId": "1f401607-c19c-4db2-ae7f-6df1257e4144"
   },
   "outputs": [
    {
     "name": "stdout",
     "output_type": "stream",
     "text": [
      "3\n"
     ]
    }
   ],
   "source": [
    "s = 'hello world'\n",
    "print(s.count('l'))"
   ]
  },
  {
   "cell_type": "markdown",
   "metadata": {
    "id": "DpIzq-OMXNjU"
   },
   "source": [
    "* `.find()` и `.rfind()` позволяют найти индекс самой первой и самой последней найденной последовательности символов в строке."
   ]
  },
  {
   "cell_type": "code",
   "execution_count": null,
   "metadata": {
    "colab": {
     "base_uri": "https://localhost:8080/"
    },
    "executionInfo": {
     "elapsed": 732,
     "status": "ok",
     "timestamp": 1675845760600,
     "user": {
      "displayName": "Таня Перевышина",
      "userId": "17222556831728321946"
     },
     "user_tz": -180
    },
    "id": "ES5TRHH0XF0w",
    "outputId": "9ee15068-939f-4420-e1e6-0e764fec224c"
   },
   "outputs": [
    {
     "name": "stdout",
     "output_type": "stream",
     "text": [
      "2\n",
      "9\n"
     ]
    }
   ],
   "source": [
    "s = 'hello world'\n",
    "#print(s.index('o'))\n",
    "print(s.find('l'))\n",
    "print(s.rfind('l'))"
   ]
  },
  {
   "cell_type": "markdown",
   "metadata": {
    "id": "b2b9dfe2"
   },
   "source": [
    "## Задача 1. Палиндром\n",
    "\n",
    "Напишите программу, которая принимает на вход строку и определяет, является ли она палиндромом (читается одинаково слева направо и справа налево). Программа должна выводить на экран True, если строка - палиндром. В противном случае программа должна выводить False\n",
    "\n",
    "Не забудьте учесть, что строка может содержать пробелы и буквы в разном регистре\n",
    "\n",
    "Для тестов:\n",
    "* искать такси\n",
    "* Леша на полке клопа нашел\n",
    "* was it a car or a cat I saw"
   ]
  },
  {
   "cell_type": "code",
   "execution_count": 87,
   "metadata": {},
   "outputs": [
    {
     "name": "stdout",
     "output_type": "stream",
     "text": [
      "True\n",
      "True\n"
     ]
    }
   ],
   "source": [
    "a = 'искать такси'\n",
    "a = a.replace(' ', '')\n",
    "\n",
    "# 1 вариант вывода\n",
    "print(a == a[::-1])\n",
    "\n",
    "# 2 вариант вывода\n",
    "if a == a[::-1]:\n",
    "    print(True)"
   ]
  },
  {
   "cell_type": "markdown",
   "metadata": {
    "id": "8ebdb2f3"
   },
   "source": [
    "## Задача 2. Поиск прилагательного\n",
    "\n",
    "Напишите программу, принимающую на вход строку (слово). Если слово оканчивается на -ая/-яя/-ий/-ый, программа должна вывести на экран предположение: \"похоже на прилагательное\". В противном случае программа выводит сообщение: \"неизвестно\".\n",
    "\n",
    "Для проверки сразу нескольких вариантов окончаний используйте метод `.endswith((<кортеж с возможными окончаниями>))`"
   ]
  },
  {
   "cell_type": "code",
   "execution_count": 41,
   "metadata": {},
   "outputs": [
    {
     "name": "stdout",
     "output_type": "stream",
     "text": [
      "красивая\n",
      "похоже на прилагательное\n"
     ]
    }
   ],
   "source": [
    "a = input()\n",
    "if a.endswith(('ая', 'яя', 'ий', 'ый')):\n",
    "    print('похоже на прилагательное')\n",
    "else:\n",
    "    print('неизвестно')"
   ]
  },
  {
   "cell_type": "markdown",
   "metadata": {
    "id": "d9d82697"
   },
   "source": [
    "## Задача 3. Инициалы\n",
    "\n",
    "Напишите программу, которая принимает на вход имя и отчество человека одной строкой через пробел, затем выполняет преобразование имени и отчества в инициалы и выводит их на экран. Вывод должен содержать заглавные буквы имени и отчества с точками и без пробела."
   ]
  },
  {
   "cell_type": "code",
   "execution_count": 85,
   "metadata": {
    "id": "0b73aaa7"
   },
   "outputs": [
    {
     "name": "stdout",
     "output_type": "stream",
     "text": [
      "маша бочарова\n",
      "М. Б.\n"
     ]
    },
    {
     "ename": "KeyboardInterrupt",
     "evalue": "Interrupted by user",
     "output_type": "error",
     "traceback": [
      "\u001b[0;31m---------------------------------------------------------------------------\u001b[0m",
      "\u001b[0;31mKeyboardInterrupt\u001b[0m                         Traceback (most recent call last)",
      "\u001b[0;32m<ipython-input-85-725301a4bf9c>\u001b[0m in \u001b[0;36m<module>\u001b[0;34m\u001b[0m\n\u001b[1;32m      8\u001b[0m \u001b[0;31m# 2 вариант\u001b[0m\u001b[0;34m\u001b[0m\u001b[0;34m\u001b[0m\u001b[0;34m\u001b[0m\u001b[0m\n\u001b[1;32m      9\u001b[0m \u001b[0;34m\u001b[0m\u001b[0m\n\u001b[0;32m---> 10\u001b[0;31m \u001b[0mfo\u001b[0m \u001b[0;34m=\u001b[0m \u001b[0minput\u001b[0m\u001b[0;34m(\u001b[0m\u001b[0;34m)\u001b[0m\u001b[0;34m.\u001b[0m\u001b[0msplit\u001b[0m\u001b[0;34m(\u001b[0m\u001b[0;34m)\u001b[0m\u001b[0;34m\u001b[0m\u001b[0;34m\u001b[0m\u001b[0m\n\u001b[0m\u001b[1;32m     11\u001b[0m \u001b[0mname\u001b[0m \u001b[0;34m=\u001b[0m \u001b[0mfo\u001b[0m\u001b[0;34m[\u001b[0m\u001b[0;36m0\u001b[0m\u001b[0;34m]\u001b[0m\u001b[0;34m\u001b[0m\u001b[0;34m\u001b[0m\u001b[0m\n\u001b[1;32m     12\u001b[0m \u001b[0mmiddle\u001b[0m \u001b[0;34m=\u001b[0m \u001b[0mfo\u001b[0m\u001b[0;34m[\u001b[0m\u001b[0;36m1\u001b[0m\u001b[0;34m]\u001b[0m\u001b[0;34m\u001b[0m\u001b[0;34m\u001b[0m\u001b[0m\n",
      "\u001b[0;32m/opt/anaconda3/lib/python3.8/site-packages/ipykernel/kernelbase.py\u001b[0m in \u001b[0;36mraw_input\u001b[0;34m(self, prompt)\u001b[0m\n\u001b[1;32m    858\u001b[0m                 \u001b[0;34m\"raw_input was called, but this frontend does not support input requests.\"\u001b[0m\u001b[0;34m\u001b[0m\u001b[0;34m\u001b[0m\u001b[0m\n\u001b[1;32m    859\u001b[0m             )\n\u001b[0;32m--> 860\u001b[0;31m         return self._input_request(str(prompt),\n\u001b[0m\u001b[1;32m    861\u001b[0m             \u001b[0mself\u001b[0m\u001b[0;34m.\u001b[0m\u001b[0m_parent_ident\u001b[0m\u001b[0;34m,\u001b[0m\u001b[0;34m\u001b[0m\u001b[0;34m\u001b[0m\u001b[0m\n\u001b[1;32m    862\u001b[0m             \u001b[0mself\u001b[0m\u001b[0;34m.\u001b[0m\u001b[0m_parent_header\u001b[0m\u001b[0;34m,\u001b[0m\u001b[0;34m\u001b[0m\u001b[0;34m\u001b[0m\u001b[0m\n",
      "\u001b[0;32m/opt/anaconda3/lib/python3.8/site-packages/ipykernel/kernelbase.py\u001b[0m in \u001b[0;36m_input_request\u001b[0;34m(self, prompt, ident, parent, password)\u001b[0m\n\u001b[1;32m    902\u001b[0m             \u001b[0;32mexcept\u001b[0m \u001b[0mKeyboardInterrupt\u001b[0m\u001b[0;34m:\u001b[0m\u001b[0;34m\u001b[0m\u001b[0;34m\u001b[0m\u001b[0m\n\u001b[1;32m    903\u001b[0m                 \u001b[0;31m# re-raise KeyboardInterrupt, to truncate traceback\u001b[0m\u001b[0;34m\u001b[0m\u001b[0;34m\u001b[0m\u001b[0;34m\u001b[0m\u001b[0m\n\u001b[0;32m--> 904\u001b[0;31m                 \u001b[0;32mraise\u001b[0m \u001b[0mKeyboardInterrupt\u001b[0m\u001b[0;34m(\u001b[0m\u001b[0;34m\"Interrupted by user\"\u001b[0m\u001b[0;34m)\u001b[0m \u001b[0;32mfrom\u001b[0m \u001b[0;32mNone\u001b[0m\u001b[0;34m\u001b[0m\u001b[0;34m\u001b[0m\u001b[0m\n\u001b[0m\u001b[1;32m    905\u001b[0m             \u001b[0;32mexcept\u001b[0m \u001b[0mException\u001b[0m \u001b[0;32mas\u001b[0m \u001b[0me\u001b[0m\u001b[0;34m:\u001b[0m\u001b[0;34m\u001b[0m\u001b[0;34m\u001b[0m\u001b[0m\n\u001b[1;32m    906\u001b[0m                 \u001b[0mself\u001b[0m\u001b[0;34m.\u001b[0m\u001b[0mlog\u001b[0m\u001b[0;34m.\u001b[0m\u001b[0mwarning\u001b[0m\u001b[0;34m(\u001b[0m\u001b[0;34m\"Invalid Message:\"\u001b[0m\u001b[0;34m,\u001b[0m \u001b[0mexc_info\u001b[0m\u001b[0;34m=\u001b[0m\u001b[0;32mTrue\u001b[0m\u001b[0;34m)\u001b[0m\u001b[0;34m\u001b[0m\u001b[0;34m\u001b[0m\u001b[0m\n",
      "\u001b[0;31mKeyboardInterrupt\u001b[0m: Interrupted by user"
     ]
    }
   ],
   "source": [
    "# 1 вариант\n",
    "\n",
    "name, middle = input().split()\n",
    "print(f'{name[0].upper()}. {middle[0].upper()}.') \n",
    "# добавляем .upper() на случай, если забыли написать имя и отчество с заглавной\n",
    "\n",
    "\n",
    "# 2 вариант\n",
    "\n",
    "fo = input().split()\n",
    "name = fo[0]\n",
    "middle = fo[1]\n",
    "print(f'{name[0].upper()}. {middle[0].upper()}.') "
   ]
  },
  {
   "cell_type": "code",
   "execution_count": 43,
   "metadata": {},
   "outputs": [
    {
     "data": {
      "text/plain": [
       "'маша'"
      ]
     },
     "execution_count": 43,
     "metadata": {},
     "output_type": "execute_result"
    }
   ],
   "source": [
    "name"
   ]
  },
  {
   "cell_type": "markdown",
   "metadata": {
    "id": "37580df3"
   },
   "source": [
    "## Задача 4. Обращения маркетологов\n",
    "\n",
    "Менеджер Игорь получает очень много сообщений от назойливых маркетологов. Ему стало интересно, сколько раз они обращаются к нему по имени в письмах. Помогите Игорю посчитать количество вхождений его имени в каждое письмо. Все письма сохранены в переменной **messages**.\n",
    "\n",
    "Требуется посчитать именно количество вхождений имени \"Игорь\", без учета его всевозможных видоизменений. Но учтите, что имя может быть написано в разных регистрах."
   ]
  },
  {
   "cell_type": "code",
   "execution_count": 65,
   "metadata": {
    "id": "8ed5afd0"
   },
   "outputs": [
    {
     "name": "stdout",
     "output_type": "stream",
     "text": [
      "7\n",
      "7\n"
     ]
    }
   ],
   "source": [
    "# 1 вариант\n",
    "\n",
    "messages = ['некоторое письмо, Игорь', 'вам снова письмо, Игорь. Почему вы не отвечаете, Игорь?',\n",
    "           'спишь?', 'Игорь, узнайте тайну имени Игорь всего за 100 рублей отправив смс с кодом ИГОРЬ на номер 5553535',\n",
    "           'спишь? игорь???']\n",
    "\n",
    "n = ' '.join(messages).lower().count('игорь')\n",
    "print(n)\n",
    "\n",
    "# 2 вариант\n",
    "\n",
    "messages = ['некоторое письмо, Игорь', 'вам снова письмо, Игорь. Почему вы не отвечаете, Игорь?',\n",
    "           'спишь?', 'Игорь, узнайте тайну имени Игорь всего за 100 рублей отправив смс с кодом ИГОРЬ на номер 5553535',\n",
    "           'спишь? игорь???']\n",
    "\n",
    "i = 0\n",
    "for m in messages:\n",
    "    i += m.lower().count('игорь')\n",
    "        \n",
    "print(i)"
   ]
  },
  {
   "cell_type": "markdown",
   "metadata": {
    "id": "2a6cd59b"
   },
   "source": [
    "## Задача 5. Количество предложений\n",
    "\n",
    "В переменной text сохранен список некоторых текстов. Посчитайте количество предложений в каждом тексте и выведите их сумму на экран (для каждого текста).\n",
    "\n",
    "Если текст состоит из одного предложения, то выведите сообщение \"слишком короткий текст\".\n",
    "\n",
    "Количество предложений равно количеству точек."
   ]
  },
  {
   "cell_type": "code",
   "execution_count": 82,
   "metadata": {
    "id": "2aabe1d6"
   },
   "outputs": [],
   "source": [
    "text = ['Я короткий текст.', 'Я текст подлиннее, но все еще короткий текст.',\n",
    "        'Я очень недлинный текст. Но я еще вырасту. Вот увидите, я вам всем покажу.',\n",
    "       'Я-я еще расту. Не смотрите на меня. Скоро все будет. Но пока еще не готово.']\n",
    "\n",
    "# ваш код"
   ]
  },
  {
   "cell_type": "code",
   "execution_count": 83,
   "metadata": {},
   "outputs": [
    {
     "name": "stdout",
     "output_type": "stream",
     "text": [
      "1\n",
      "1\n",
      "3\n",
      "4\n"
     ]
    }
   ],
   "source": [
    "for t in text:\n",
    "    print(t.count('.'))\n",
    "    if t.count('.') == 1:\n",
    "        print('слишком короткий текст')"
   ]
  },
  {
   "cell_type": "markdown",
   "metadata": {
    "id": "5239e568"
   },
   "source": [
    "## Задача 6. Группировка хакеров\n",
    "\n",
    "Вы пишите статью про группировку хакеров \"Anon\", вам известно, что если хакер состоит в этом объединении, в его псевдониме скрыто слово \"anon\". Оно может быть написано в другом регистре полностью или частично. Напишите программу, которая выводит из строки **names** только список предполагаемых участников группировки \"Anon\", каждый псевдоним на новой строке."
   ]
  },
  {
   "cell_type": "code",
   "execution_count": null,
   "metadata": {
    "id": "c18262bf"
   },
   "outputs": [],
   "source": [
    "names = 'anon, 4loveyou35, goa0way, l#ucky7anony, mybreak, hunnyann*y, f357687aaaanony, so345df33&3an0nny, mikeanonsov'\n",
    "\n",
    "# ваш код"
   ]
  },
  {
   "cell_type": "markdown",
   "metadata": {
    "id": "5553d313"
   },
   "source": [
    "## Задача 7. Пароль\n",
    "\n",
    "Пусть программа просит пользователя ввести пароль. Ваш код должен проверять, что пароль состоит ровно из 10 символов – все буквы. Если эти условия соблюдены, то программа выводит фразу \"Пароль принят\", в противном случае — \"Попробуйте ввести пароль снова\".\n",
    "\n",
    "**ФОРМАТ ВВОДА**\n",
    "\n",
    "Строка с паролем.\n",
    "\n",
    "**ФОРМАТ ВЫВОДА**\n",
    "\n",
    "Строка \"Пароль принят\" или \"Попробуйте ввести пароль снова\".\n",
    "\n",
    "**ПРИМЕР**\n",
    "\n",
    "Входные данные: \\\n",
    "qweABCjoHn \\\n",
    "Вывод программы: \\\n",
    "Пароль принят"
   ]
  },
  {
   "cell_type": "code",
   "execution_count": null,
   "metadata": {
    "id": "d8a44c16"
   },
   "outputs": [],
   "source": [
    "# ваш код"
   ]
  },
  {
   "cell_type": "markdown",
   "metadata": {
    "id": "7260c17a"
   },
   "source": [
    "## Задача 8. Диета\n",
    "\n",
    "Петя решил придерживаться новой диеты - есть на ужин только продукты, названия которых имеют определенную длину и начинаются с определенной буквы. Помогите Пете определить, чем можно поужинать в рамках новой диеты. На вход подается список продуктов через запятую. На выходе программа выдает только те продукты, которые можно есть Пете, а если таких продуктов нет, пишет \"Нужно идти в магазин\".\n",
    "\n",
    "**ФОРМАТ ВВОДА**\n",
    "\n",
    "Строка с названиями продуктов через запятую и пробел.\n",
    "\n",
    "Буква.\n",
    "\n",
    "Число.\n",
    "\n",
    "*Каждый ввод с новой строки.*\n",
    "\n",
    "**ФОРМАТ ВЫВОДА**\n",
    "\n",
    "Строка типа \"Сегодня Петя может съесть на ужин следующие продукты: \" и перечисление продуктов через запятую (см. пример), либо строка \"Нужно идти в магазин.\"\n",
    "\n",
    "**ПРИМЕР**\n",
    "\n",
    "Входные данные: \\\n",
    "бананы, яблоки, малина, молоко, батон, морковь \\\n",
    "м \\\n",
    "6\n",
    "\n",
    "Вывод программы: \\\n",
    "Сегодня Петя может съесть на ужин следующие продукты: малина, молоко."
   ]
  },
  {
   "cell_type": "code",
   "execution_count": null,
   "metadata": {
    "id": "a2ad88db",
    "scrolled": true
   },
   "outputs": [],
   "source": [
    "# ваш код"
   ]
  },
  {
   "cell_type": "markdown",
   "metadata": {
    "id": "8823fca9"
   },
   "source": [
    "## Задача 9. Волшебные палочки\n",
    "\n",
    "Менеджер магазина волшебных палочек Олливандера проверяет работоспособность магической системы учета проданных палочек. Он записывает информацию о проданных волшебных палочках в виде списка, содержащего фамилию и имя владельца, год приобретения и материал, из которого изготовлена палочка. Записи вводятся до тех пор, пока менеджер не введет слово \"Конец\".\n",
    "\n",
    "Иногда владелец магазина, Олливандер, хочет вспомнить всех, кто покупал у него палочку в определенный год. Если никто не купил палочку в указанный год, то выводится фраза: \"В этот год никто не покупал волшебные палочки\".\n",
    "\n",
    "**ФОРМАТ ВВОДА**\n",
    "\n",
    "Строки типа \"ИФ владельца, год, материал\" (пока не введено слово \"Конец\")\n",
    "\n",
    "Год.\n",
    "\n",
    "\n",
    "**ФОРМАТ ВЫВОДА**\n",
    "\n",
    "Строка типа \"В xxxx году волшебную палочку купили:\" и перечисление ИФ тех, кто купил волшебную палочку, а также уточнение материала, из которого она изготовлена (см. пример).\n",
    "\n",
    "**ПРИМЕР**\n",
    "\n",
    "Входные данные:\n",
    "\n",
    "Долорес Амбридж, 1957, береза \\\n",
    "Гермиона Грейнджер, 1989, виноградная лоза \\\n",
    "Седрик Диггори, 1985, ясень \\\n",
    "Невилл Лонгботтом, 1989, вишневое дерево \\\n",
    "Конец \\\n",
    "1989\n",
    "\n",
    "Вывод программы: \\\n",
    "В 1989 году волшебную палочку купили: Гермиона Грейнджер (материал - виноградная лоза), Невилл Лонгботтом (материал - вишневое дерево)"
   ]
  },
  {
   "cell_type": "code",
   "execution_count": 80,
   "metadata": {
    "id": "d06826bc"
   },
   "outputs": [
    {
     "name": "stdout",
     "output_type": "stream",
     "text": [
      "Невилл Лонгботтом, 1989, вишневое дерево \n",
      "Невилл Лонгботтом, 1989, вишневое дерево \n",
      "Невилл Лонгботтом, 1989, вишневое дерево \n",
      "конец\n",
      "1989\n",
      "В 1989 году волшебную палочку купили: Невилл Лонгботтом (материал - вишневое дерево), Невилл Лонгботтом (материал - вишневое дерево), Невилл Лонгботтом (материал - вишневое дерево)\n"
     ]
    }
   ],
   "source": [
    "purchases = [] # пустой список, куда мы будем складывать информцию о клиентах\n",
    "purchase = input() # вводим информацию об одной покупке\n",
    "\n",
    "while purchase != 'конец':  \n",
    "    purchases.append(purchase) # добавляем в список инфу про клиента\n",
    "    purchase = input() # вводим информацию о следующей покупке\n",
    "\n",
    "y = int(input())\n",
    "\n",
    "final_phrase = ''\n",
    "\n",
    "for purchase in purchases:\n",
    "    purchase = purchase.split(',') # разделяем инфу по запятой.\n",
    "    # получается, например, ['Долорес Амбридж', '1957', 'береза']\n",
    "    \n",
    "    name = purchase[0].strip()  # -> 'Долорес Амбридж'\n",
    "    year = int(purchase[1]) # переводим год в формат числа: -> 1957\n",
    "    product = purchase[2].strip() # -> 'береза'\n",
    "    \n",
    "    # добавляем .strip() на случай нежелательных пробелов\n",
    "    \n",
    "    if year == y:\n",
    "        final_phrase += f'{name} (материал - {product}), '\n",
    "\n",
    "        \n",
    "if len(final_phrase) > 0:\n",
    "    print(f'В {y} году волшебную палочку купили:', final_phrase[:-2]) \n",
    "    # делаем срез, чтобы в конце не выводился лишний пробел и запятая"
   ]
  },
  {
   "cell_type": "markdown",
   "metadata": {
    "id": "c94kG_1AHCE-"
   },
   "source": [
    "## Задача 10\n",
    "\n",
    "Реализуйте следующую программу:\n",
    "\n",
    "* Считываются два списка одинаковой длины — names и fruits. В первом списке — имена, во втором — названия фруктов введенные через пробел. Этот код уже написан.\n",
    "* Программа выводит строки вида \"X любит Y\", где X — строка из списка names под индексом i, а Y — строка из списка fruits под индексом i.\n",
    "* Каждая строка вида \"X любит Y\" печатается на новой строке.\n",
    "\n",
    "ПРИМЕР\n",
    "\n",
    "**Ввод**\t\\\n",
    "Алена Таня Дима \\\n",
    "арбузы апельсины яблоки\n",
    "\n",
    "**Результат** \\\n",
    "Алена любит арбузы \\\n",
    "Таня любит апельсины \\\n",
    "Дима любит яблоки"
   ]
  },
  {
   "cell_type": "code",
   "execution_count": null,
   "metadata": {
    "id": "cQxVzavvHJHw"
   },
   "outputs": [],
   "source": [
    "names = input().split()\n",
    "fruits = input().split()\n",
    "\n",
    "# ваш код"
   ]
  },
  {
   "cell_type": "markdown",
   "metadata": {
    "id": "jUywFRrHHKTQ"
   },
   "source": [
    "## Задача 11\n",
    "\n",
    "Считываются два списка — names и numbers, этот код уже написан для вас.\n",
    "\n",
    "* Список names содержит имена или идентификаторы студентов (все элементы представлены как строки).\n",
    "* Список numbers содержит положительные целые числа. Гарантируется, что самое большое число в этом списке не превышает максимальный индекс элемента списка names.\n",
    "* Напишите программу, которая выберет из списка names элементы по индексам из списка numbers (в порядке появления индексов в списке numbers) и добавит их в новый список.\n",
    "* В конце программа должна напечатать получившийся список.\n",
    "\n",
    "ПРИМЕР\n",
    "\n",
    "**Ввод**\n",
    "Аня 14 14 Витя 34 \\\n",
    "1 2 3\n",
    "\n",
    "**Результат** \\\n",
    "['14', '14', 'Витя']"
   ]
  },
  {
   "cell_type": "code",
   "execution_count": null,
   "metadata": {
    "id": "UzbNl4HQHvry"
   },
   "outputs": [],
   "source": [
    "names = input().split()\n",
    "numbers = list(map(int, input().split()))\n",
    "\n",
    "# ваш код"
   ]
  },
  {
   "cell_type": "markdown",
   "metadata": {
    "id": "WlLhxatgHzry"
   },
   "source": [
    "## Задача 12\n",
    "\n",
    "Считываются два списка — names и languages — и строка info. Этот код уже написан.\n",
    "\n",
    "* Список names содержит имена студентов (строки). Список languages cодержит названия иностранных языков (строки). Количество элементов в списках совпадает — каждый введенный язык из списка languages соответствует студенту из списка names.\n",
    "* Строка info содержит название иностранного языка.\n",
    "* Напишите программу, которая сохранит в новый список имена только тех студентов из списка names, которые говорят на введенном языке (info). Имена добавляются в порядке их появления.\n",
    "* В конце программа должна напечатать получившийся список. Получившийся список может быть пустым.\n",
    "\n",
    "ПРИМЕР\n",
    "\n",
    "**Ввод**\t\\\n",
    "Anna Alisa Alena Oleg Ivan \\\n",
    "Japanese Korean Japanese English Korean \\\n",
    "Japanese\n",
    "\n",
    "**Результат** \\\n",
    "['Anna', 'Alena']"
   ]
  },
  {
   "cell_type": "code",
   "execution_count": null,
   "metadata": {
    "id": "wO7iEc-GICov"
   },
   "outputs": [],
   "source": [
    "names = input().split()\n",
    "languages = input().split()\n",
    "info = input()\n",
    "\n",
    "# ваш код"
   ]
  },
  {
   "cell_type": "markdown",
   "metadata": {
    "id": "iq8b_SPeImv7"
   },
   "source": [
    "## Задание НЭ А-05\n",
    "\n",
    "Дан фрагмент программы:\n",
    "\n",
    "`companies = companies.upper().split(', ')[4::-2] \\\n",
    " print(companies)`\n",
    "\n",
    "Программа вывела:\n",
    "\n",
    "`['МАРКЕТИНГ', 'ЛОГИСТИКА']`\n",
    "\n",
    "Выберите все строки (минимум две), которые могли храниться в переменной companies.\n",
    "\n",
    "`'ЛОГИСТИКА, МАРКЕТИНГ'`\n",
    "\n",
    "`'ЛОГИСТИКА, логистика, МАРКЕТИНГ, маркетинг'`\n",
    "\n",
    "`'Логистика, Управление бизнесом, Рыночная аналитика, Маркетинг'`\n",
    "\n",
    "`'Логистика, Управление бизнесом, Маркетинг'`\n",
    "\n",
    "`'ЛОГИСТИКА, МЕЖДУНАРОДНЫЙ МЕНЕДЖМЕНТ, МАРКЕТИНГ'`"
   ]
  },
  {
   "cell_type": "code",
   "execution_count": 30,
   "metadata": {
    "id": "foy_0H5PI04V"
   },
   "outputs": [
    {
     "data": {
      "text/plain": [
       "['маркетинг', 'логистика']"
      ]
     },
     "execution_count": 30,
     "metadata": {},
     "output_type": "execute_result"
    }
   ],
   "source": [
    "a = 'ЛОГИСТИКА, логистика, МАРКЕТИНГ, маркетинг'.split(', ')\n",
    "a[4::-2]"
   ]
  },
  {
   "cell_type": "markdown",
   "metadata": {
    "id": "iWu_azHvI0Xt"
   },
   "source": [
    "## Задание НЭ А-05\n",
    "\n",
    "Дан фрагмент программы:\n",
    "\n",
    "`lang = lang.split(', ')[2:3:2][-1] \\\n",
    "print(lang)`\n",
    "\n",
    "Программа вывела:\n",
    "\n",
    "`'французский'`\n",
    "\n",
    "Выберите все строки (минимум две), которые могли храниться в переменной lang.\n",
    "\n",
    "`'испанский, немецкий, французский, английский'`\n",
    "\n",
    "`'испанский немецкий французский'`\n",
    "\n",
    "`'испанский, итальянский, французский'`\n",
    "\n",
    "`'английский, русский, французский'`\n",
    "\n",
    "`'французский французский французский'`"
   ]
  },
  {
   "cell_type": "code",
   "execution_count": null,
   "metadata": {
    "id": "IjQSoTgAJPk5"
   },
   "outputs": [],
   "source": []
  },
  {
   "cell_type": "markdown",
   "metadata": {
    "id": "T0PbRCgqJOrF"
   },
   "source": [
    "## Задание НЭ B-03\n",
    "\n",
    "Реализуйте программу, которая сохраняет в список все строки, состоящие только из символов в нижнем регистре.\n",
    "\n",
    "* Задан пустой список words_low. Этот код уже написан.\n",
    "* В цикле while считываются строки до тех пор, пока не введена строка 'END'.\n",
    "* Для каждой вводимой строки сделайте проверку: если в строке содержатся только символы в нижнем регистре, то добавьте ее в список words_low.\n",
    "* Гарантируется, что до строки 'END' будет введена как минимум одна строка.\n",
    "* Напечатайте список words_low. Строки должны быть добавлены в список в том же порядке, что и при вводе.\n",
    "\n",
    "ПРИМЕР\n",
    "\n",
    "**Ввод**\n",
    "питон \\\n",
    "матеМатика \\\n",
    "История \\\n",
    "ЭКОНОМИКА \\\n",
    "география! \\\n",
    "END\n",
    "\n",
    "**Результат**\n",
    "['питон', 'география!']"
   ]
  },
  {
   "cell_type": "code",
   "execution_count": null,
   "metadata": {
    "id": "EkZH4cJ4JjcE"
   },
   "outputs": [],
   "source": [
    "words_low = []\n",
    "\n",
    "# ваш код"
   ]
  },
  {
   "cell_type": "markdown",
   "metadata": {
    "id": "FDWfR0BMJlsH"
   },
   "source": [
    "## Задание НЭ B-03\n",
    "\n",
    "Реализуйте программу, сохраняющую в список товары, издержки на перевозку которых не превосходят 500 рублей.\n",
    "\n",
    "* Задан пустой список cheap_delivery. Этот код уже написан.\n",
    "* В цикле while считываются строки типа '<название товара>:<издержки на перевозку>' до тех пор, пока не введена строка 'END' .\n",
    "* Для каждой вводимой строки сделайте проверку: если издержки (целое число) не более 500 — добавьте название товара в список cheap_delivery.\n",
    "* Гарантируется, что до строки 'END' будет введена как минимум одна строка.\n",
    "* Напечатайте список  cheap_delivery. Строки в нем должны идти в том же порядке, что и при вводе.\n",
    "\n",
    "ПРИМЕР\n",
    "\n",
    "**Ввод**\t\\\n",
    "Шины:1200 \\\n",
    "Iphone 13 Pro:500 \\\n",
    "Замороженные котлеты:150 \\\n",
    "Табуретки:340 \\\n",
    "Одеяла:130 \\\n",
    "END\n",
    "\n",
    "**Результат** \\\n",
    "['Iphone 13 Pro', 'Замороженные котлеты', 'Табуретки', 'Одеяла']"
   ]
  },
  {
   "cell_type": "code",
   "execution_count": null,
   "metadata": {
    "id": "n_G6VZywJ5Ny"
   },
   "outputs": [],
   "source": [
    "cheap_delivery = []\n",
    "\n",
    "# ваш код"
   ]
  },
  {
   "cell_type": "markdown",
   "metadata": {
    "id": "w8I55S8jJ8T-"
   },
   "source": [
    "## Задание НЭ B-04\n",
    "\n",
    "Реализуйте программу, которая фильтрует страны на основе показателя их ВВП на душу населения:\n",
    "\n",
    "* В переменную countries считывается список, где хранятся названия стран (строки). Этот код уже написан.\n",
    "* В переменную gdp_per_capita считывается список, где хранятся вещественные числа — показатели ВВП на душу населения. Каждое значение соответствует стране из списка countries. Этот код уже написан.\n",
    "* Гарантируется, что будет введена информация минимум для одной страны.\n",
    "* В переменную filter_gdp считывается вещественное число — показатель ВВП на душу населения, который нас интересует. Этот код уже написан.\n",
    "* Программа выводит названия стран, показатель ВВП которых равен или выше filter_gdp, каждое на новой строке.\n",
    "* Если таких стран нет, то программа ничего не выводит.\n",
    "\n",
    "ПРИМЕР\n",
    "\n",
    "**Ввод**\n",
    "Норвегия Финляндия Франция Мальта \\\n",
    "92.646 50.818 42.330 32.912 \\\n",
    "50.000\n",
    "\n",
    "**Результат** \\\n",
    "Норвегия \\\n",
    "Финляндия"
   ]
  },
  {
   "cell_type": "code",
   "execution_count": null,
   "metadata": {
    "id": "zaKfhsToKKIj"
   },
   "outputs": [],
   "source": [
    "countries = input().split()\n",
    "gdp_per_capita = list(map(float, input().split()))\n",
    "filter_gdp = float(input())\n",
    "\n",
    "# ваш код ниже"
   ]
  },
  {
   "cell_type": "markdown",
   "metadata": {
    "id": "mLo_i1_0KT3y"
   },
   "source": [
    "## Задание НЭ C-01\n",
    "\n",
    "Алина хочет проверить, сколько выставок пройдет в определенном городе в России в 2023 году. Напишите программу, которая поможет Алине.\n",
    "\n",
    "ФОРМАТ ВВОДА \\\n",
    "* На первой строке вводится информация о выставках в формате '<стиль >|<город>|<месяц>'. Между собой выставки разделены точкой с запятой (\";\"). \\\n",
    "* Гарантируется, что строка состоит минимум из описания одной выставки. \\\n",
    "* На второй строке с большой буквы вводится название города, по которому нужно искать выставки.\n",
    "\n",
    "ФОРМАТ ВЫВОДА \\\n",
    "* Целое число — количество выставок, которые будут проходить в интересующем городе.\n",
    "\n",
    "АЛГОРИТМ РЕШЕНИЯ \\\n",
    "Это один из возможных алгоритмов решения задачи. Вы можете воспользоваться им в качестве подсказки или решить задачу любым другим удобным для вас способом.\n",
    "\n",
    "* Считайте в переменную строку с информацией о выставках.\n",
    "* Считайте в переменную строку, по которой будет осуществляться поиск.\n",
    "* Создайте переменную-счетчик для подсчета интересующих нас выставок.\n",
    "* Разбейте строку из п.1 по разделителю и пройдитесь циклом списку выставок:\n",
    "  * Разбейте информацию о каждой выставке по разделителю и сохраните в отдельную переменную интересующую нас часть.\n",
    "  * Проверьте, совпадает ли эта часть с интересующей нас строкой. Если совпадает — обновите значение переменной-счетчика.\n",
    "* Выведите значение переменной-счетчика.\n",
    "\n",
    "ПРИМЕР\n",
    "\n",
    "**Ввод**\n",
    "кубизм|Москва|май;символизм|Москва|июнь;кубизм|Москва|июль;кубизм|Самара|сентябрь;реализм|Орел|май \\\n",
    "Москва\n",
    "\n",
    "**Результат** \\\n",
    "3"
   ]
  },
  {
   "cell_type": "code",
   "execution_count": null,
   "metadata": {
    "id": "tAB1SDjQKuKC"
   },
   "outputs": [],
   "source": []
  },
  {
   "cell_type": "markdown",
   "metadata": {
    "id": "r84EuRZbK9Xc"
   },
   "source": [
    "## Задание НЭ C-02\n",
    "\n",
    "Валя хочет посчитать средний доход своих респондентов за последние три месяца. Напишите программу, которая поможет ей.\n",
    "\n",
    "ФОРМАТ ВВОДА\n",
    "\n",
    "* На первой строке через точку с запятой и пробел записываются данные о респонденте и его доходах соответственно (вида <имя>: <доход за 1 месяц>, <доход за 2 месяц>, <доход за 3 месяц>).\n",
    "* Гарантируется, что строка состоит из данных минимум об одном человеке.\n",
    "\n",
    "ФОРМАТ ВЫВОДА\n",
    "\n",
    "* Список кортежей, в каждом из которых сначала идет имя человека, а затем его средний доход, округленный с помощью функции round().\n",
    "\n",
    "АЛГОРИТМ РЕШЕНИЯ\n",
    "\n",
    "Это один из возможных алгоритмов решения задачи. Вы можете воспользоваться им в качестве подсказки или решить задачу любым другим удобным для вас способом.\n",
    "\n",
    "* Считайте в переменную список с информацией о респондентах.\n",
    "* Создайте пустой список, в который будете добавлять кортежи.\n",
    "* Пройдитесь циклом по считанному в п.1 списку — разбейте каждый элемент по разделителю (\": \") и затем:\n",
    "* Обратитесь к первому по индексу элементу из списка, созданного в п.3 — преобразуйте строку в список целых чисел (можно воспользоваться функцией map()). Используя список посчитайте среднее арифметическое, округлите с помощью функции round() и сохраните результат в отдельную переменную.\n",
    "* Создайте кортеж, где первым элементом будет имя (нулевой элемент из списка, созданного в п.3), а вторым — округленный средний доход. Добавьте этот кортеж в список из п.2.\n",
    "* Напечатайте получившийся список.\n",
    "\n",
    "ПРИМЕР\n",
    "\n",
    "**Ввод**\n",
    "Алена: 200, 300, 100; Катя: 192, 300, 193; Максим: 789, 173, 192\n",
    "\n",
    "**Результат**   \n",
    "[('Алена', 200), ('Катя', 228), ('Максим', 385)]"
   ]
  },
  {
   "cell_type": "code",
   "execution_count": null,
   "metadata": {
    "id": "9t0VwXnELKly"
   },
   "outputs": [],
   "source": []
  }
 ],
 "metadata": {
  "colab": {
   "provenance": []
  },
  "kernelspec": {
   "display_name": "Python 3",
   "language": "python",
   "name": "python3"
  },
  "language_info": {
   "codemirror_mode": {
    "name": "ipython",
    "version": 3
   },
   "file_extension": ".py",
   "mimetype": "text/x-python",
   "name": "python",
   "nbconvert_exporter": "python",
   "pygments_lexer": "ipython3",
   "version": "3.8.5"
  }
 },
 "nbformat": 4,
 "nbformat_minor": 5
}
