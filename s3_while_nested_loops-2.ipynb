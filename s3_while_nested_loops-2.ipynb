{
 "cells": [
  {
   "cell_type": "markdown",
   "metadata": {
    "id": "7Mn21YVFWCFM"
   },
   "source": [
    "# Семинар 3. Цикл while. Вложенные циклы"
   ]
  },
  {
   "cell_type": "markdown",
   "metadata": {
    "id": "m23OnimiU_od"
   },
   "source": [
    "А теперь напишем маленькую игру-угадайку. Программа будет загадывать целое число от 1 до 100, а пользователь его угадывать. Как программа будет загадывать число? Выбирать случайным образом из интервала [1, 100] (на самом деле псевдослучайным образом, так как абсолютной случайности не получится, генерирование чисел происходит по фиксированным алгоритмам)."
   ]
  },
  {
   "cell_type": "code",
   "execution_count": null,
   "metadata": {
    "id": "Q0BmuuYoU_od"
   },
   "outputs": [],
   "source": [
    "from random import randrange # импортируем функию randrange"
   ]
  },
  {
   "cell_type": "code",
   "execution_count": null,
   "metadata": {
    "id": "auiJ4PhaU_od"
   },
   "outputs": [],
   "source": [
    "n = randrange(1, 101) # n и есть загаданное число"
   ]
  },
  {
   "cell_type": "markdown",
   "metadata": {
    "id": "T81NeLnJU_od"
   },
   "source": [
    "Осталось написать цикл. До тех пор, пока пользователь не угадает число, программа не будет останавливаться, но зато она будет давать подсказки: если введенное пользователем число больше загаданного, то будет выводиться сообщение \"Вы ввели слишком большое число.\", если меньше – \"Вы ввели слишком маленькое число.\""
   ]
  },
  {
   "cell_type": "code",
   "execution_count": null,
   "metadata": {
    "id": "oouDmlamU_od"
   },
   "outputs": [],
   "source": [
    "while True:\n",
    "    guess = int(input(\"Ваша попытка: \"))\n",
    "    if guess == n:\n",
    "        print(\"Вы выиграли!\")\n",
    "        break\n",
    "    elif guess > n:\n",
    "        print(\"Вы ввели слишком большое число.\")\n",
    "    else:\n",
    "        print(\"Вы ввели слишком маленькое число.\")"
   ]
  },
  {
   "cell_type": "markdown",
   "metadata": {
    "id": "nezL04RFU_oe"
   },
   "source": [
    "В коде выше в `while` мы не написали никакого условия явно, вместо этого мы написали `while True`. Это выражение означает «до тех пор, пока мы не вышли из цикла». В нашем случае это равносильно «до тех пор, пока не столкнулись с `break`, то есть пока наш ответ не совпал с загаданным числом."
   ]
  },
  {
   "cell_type": "markdown",
   "metadata": {
    "id": "89LENfxMU_oe"
   },
   "source": [
    "## Инструкции, использующиеся внутри циклов – break, continue, pass, else\n",
    "\n",
    "`break` – производит переход за пределы цикла\n",
    "\n",
    "`continue` – производит переход в начало цикла\n",
    "\n",
    "`pass` – ничего не делает (пустая конструкция-заполнитель)\n",
    "\n",
    "`else` – выполняется, только если цикл завершился обычным образом (без использования `break`)"
   ]
  },
  {
   "cell_type": "code",
   "execution_count": null,
   "metadata": {
    "id": "dZjzBMRBU_oe",
    "outputId": "062f6a67-8395-4fb3-df03-8b8465fa991c"
   },
   "outputs": [
    {
     "name": "stdout",
     "output_type": "stream",
     "text": [
      "0\n",
      "1\n",
      "2\n",
      "3\n"
     ]
    }
   ],
   "source": [
    "i = 0\n",
    "\n",
    "while i <= 5:\n",
    "    print(i)\n",
    "    if i == 3:\n",
    "        break # полностью выводит нас из цикла\n",
    "    i += 1"
   ]
  },
  {
   "cell_type": "code",
   "execution_count": null,
   "metadata": {
    "id": "-idYKm3FU_oe",
    "outputId": "fb71d969-31b5-407b-f9b5-58a30c4fa6d5"
   },
   "outputs": [
    {
     "name": "stdout",
     "output_type": "stream",
     "text": [
      "1\n",
      "2\n",
      "Тройку пропускаем\n",
      "4\n",
      "5\n",
      "6\n"
     ]
    }
   ],
   "source": [
    "i = 0\n",
    "\n",
    "while i <= 5:\n",
    "    i += 1\n",
    "    if i == 3:\n",
    "        print(\"Тройку пропускаем\")\n",
    "        continue # пропускаем дальнеший код в теле цикла и возвращаемся к началу\n",
    "\n",
    "    print(i)"
   ]
  },
  {
   "cell_type": "code",
   "execution_count": null,
   "metadata": {
    "id": "KVLiRlQcU_oe",
    "outputId": "4fb168c4-74dd-43ab-db96-b1947cf794bf"
   },
   "outputs": [
    {
     "name": "stdout",
     "output_type": "stream",
     "text": [
      "0\n",
      "1\n",
      "2\n",
      "3\n",
      "4\n",
      "6\n",
      "7\n",
      "8\n",
      "9\n",
      "10\n"
     ]
    }
   ],
   "source": [
    "i = 0\n",
    "\n",
    "while i <= 10:\n",
    "    if i == 5:\n",
    "        pass # ничего не делаем\n",
    "    else:\n",
    "        print(i)\n",
    "    i += 1"
   ]
  },
  {
   "cell_type": "code",
   "execution_count": null,
   "metadata": {
    "id": "s1XyrYC4U_oe",
    "outputId": "9289ff80-08ab-40b8-b5e8-1d16efbdf865"
   },
   "outputs": [
    {
     "name": "stdout",
     "output_type": "stream",
     "text": [
      "Task 1\n",
      "Task 2\n",
      "Done\n"
     ]
    }
   ],
   "source": [
    "flag = True # переменная-флаг, благодаря которой мы можем контролировать истинность условия цикла while\n",
    "\n",
    "while flag:\n",
    "    print('Task 1')\n",
    "    flag = False\n",
    "    print('Task 2')\n",
    "\n",
    "else:\n",
    "    print('Done') # выполнится, потому что цикл завершился в обычном формате (без прерывания внутри)"
   ]
  },
  {
   "cell_type": "code",
   "execution_count": null,
   "metadata": {
    "id": "KbB1-8_5U_oe",
    "outputId": "bf6e3816-c49c-49ff-fb05-780bd991eb20"
   },
   "outputs": [
    {
     "name": "stdout",
     "output_type": "stream",
     "text": [
      "Task 1\n",
      "Task 2\n"
     ]
    }
   ],
   "source": [
    "flag = True\n",
    "\n",
    "while flag:\n",
    "    print('Task 1')\n",
    "    print('Task 2')\n",
    "    break\n",
    "\n",
    "else:\n",
    "    print('Done') # не выполнится, потому что цикл завершился с прерыванием внутри"
   ]
  },
  {
   "cell_type": "markdown",
   "metadata": {
    "id": "aYNJ1RnWU_of"
   },
   "source": [
    "## Вложенные циклы\n",
    "\n",
    "<img src='https://cdn.codespeedy.com/wp-content/uploads/2022/05/Untitled-Diagram.drawio.png'>\n",
    "\n",
    "Вложенные циклы `while` содержат два основных компонента:\n",
    "\n",
    "1. Внешний цикл `while`\n",
    "2. Внутренний цикл `while`\n",
    "\n",
    "\n",
    "Внешний цикл `while` может содержать несколько внутренних циклов `while`. Условие приводит к булевому значению, и если оно истинно, только тогда цикл выполняется. На каждой итерации внешнего цикла `while` внутренний цикл выполняется с самого начала, и этот процесс продолжается до тех пор, пока условие внешнего цикла не станет истинным. Аналогично, внутренний цикл `while` выполняется только в том случае, если его условие истинно, после чего выполняется блок кода."
   ]
  },
  {
   "cell_type": "markdown",
   "metadata": {
    "id": "BQFWSG5UU_of"
   },
   "source": [
    "### Задача\n",
    "\n",
    "Выведите таблицу умножения от 1 до 9."
   ]
  },
  {
   "cell_type": "code",
   "execution_count": null,
   "metadata": {
    "id": "1rJUoNlNY1ci"
   },
   "outputs": [],
   "source": [
    "# ваш код"
   ]
  },
  {
   "cell_type": "markdown",
   "metadata": {
    "id": "LFlD0eCqYox5"
   },
   "source": [
    "### Пример\n",
    "\n",
    "Давайте посмотрим в визуализаторе еще один пример вложенных циклов (нарисуем треугольник из последовательно расположенных цифр).\n",
    "\n",
    "[Ссылка](https://pythontutor.com/visualize.html#code=i%20%3D%201%0Awhile%20i%20%3C%2010%3A%0A%20%20%20%20j%20%3D%20i%0A%20%20%20%20while%20j%20%3C%2010%3A%0A%20%20%20%20%20%20%20%20print%28f%22%7Bj%7D%20%22,%20end%3D%22%22%29%0A%20%20%20%20%20%20%20%20j%20%3D%20j%20%2B%201%0A%20%20%20%20print%28%22%22%29%0A%20%20%20%20i%20%3D%20i%20%2B%201%0Aprint%28%22Complete!%22%29&cumulative=false&curInstr=0&heapPrimitives=nevernest&mode=display&origin=opt-frontend.js&py=3&rawInputLstJSON=%5B%5D&textReferences=false)"
   ]
  }
 ],
 "metadata": {
  "colab": {
   "provenance": []
  },
  "kernelspec": {
   "display_name": "Python 3",
   "language": "python",
   "name": "python3"
  },
  "language_info": {
   "codemirror_mode": {
    "name": "ipython",
    "version": 3
   },
   "file_extension": ".py",
   "mimetype": "text/x-python",
   "name": "python",
   "nbconvert_exporter": "python",
   "pygments_lexer": "ipython3",
   "version": "3.8.5"
  }
 },
 "nbformat": 4,
 "nbformat_minor": 1
}
