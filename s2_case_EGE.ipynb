{
 "cells": [
  {
   "cell_type": "markdown",
   "metadata": {
    "id": "YZ5SjfARhLa0"
   },
   "source": [
    "## Калькулятор баллов ЕГЭ"
   ]
  },
  {
   "cell_type": "markdown",
   "metadata": {
    "id": "9klK28vAGIG2"
   },
   "source": [
    "Сегодня мы напишем калькулятор баллов ЕГЭ – такой же, как [на сайте Вышки](https://ba.hse.ru/calc). Его логика проста: мы запрашиваем у пользователя полученные баллы ЕГЭ, и калькулятор говорит, на бюджет или на какую скидку поступил бы абитуриент.\n",
    "\n",
    "Прежде, чем приступить к калькулятору, давайте усвоим несколько правил работы в Python."
   ]
  },
  {
   "cell_type": "markdown",
   "metadata": {
    "id": "AyKY1OtHHGI-"
   },
   "source": [
    "## Начнем писать наш калькулятор баллов ЕГЭ"
   ]
  },
  {
   "cell_type": "markdown",
   "metadata": {
    "id": "ZRiXCuO8HGEA"
   },
   "source": [
    "Для начала давайте обсудим логику нашей программы, ее **алгоритм**. Для удобства будем использовать проходные баллы за 2023 год, а также для упрощения задачи подразумеваем, что абитуриент точно набрал выше минимальных баллов ЕГЭ.\n",
    "\n"
   ]
  },
  {
   "cell_type": "markdown",
   "metadata": {
    "id": "Jp2QB3GpHF6Y"
   },
   "source": [
    "В первую очередь запросим у пользователя баллы ЕГЭ и ДВИ.\n",
    "\n",
    "**Вступительные на Журналистику:**\n",
    "<table>\n",
    "<tr>\n",
    "<td>Русский язык</td>\n",
    "</tr>\n",
    "<tr>\n",
    "<td>Литература</td>\n",
    "</tr>\n",
    "<tr>\n",
    "<td>Творческий ДВИ</td>\n",
    "</tr>\n",
    "<tr>\n",
    "<td>Профессиональный ДВИ</td>\n",
    "</tr>\n",
    "</table>\n",
    "\n",
    "**Вступительные на Медиакоммуникации:**\n",
    "<table>\n",
    "<tr>\n",
    "<td>Русский язык</td>\n",
    "</tr>\n",
    "<tr>\n",
    "<td>Литература</td>\n",
    "</tr>\n",
    "<tr>\n",
    "<td>Иностранный язык ИЛИ история ИЛИ обществознание</td>\n",
    "</tr>\n",
    "</table>\n",
    "\n",
    "На обе программы также можно подать индивидуальные достижения и получить за них до 10 баллов."
   ]
  },
  {
   "cell_type": "markdown",
   "metadata": {
    "id": "AoXvtmg-p19t"
   },
   "source": [
    "## Журналистика – калькулятор ЕГЭ\n",
    "\n",
    "**Журналистика**\n",
    "* 397-410 – бюджет\n",
    "* 365-396 – 70% скидка\n",
    "* 355-364 – 50% скидка\n",
    "* 345-354 – 25% скидка\n",
    "* 230-344 – полная стоимость"
   ]
  },
  {
   "cell_type": "code",
   "execution_count": 8,
   "metadata": {
    "colab": {
     "base_uri": "https://localhost:8080/"
    },
    "executionInfo": {
     "elapsed": 5277,
     "status": "ok",
     "timestamp": 1669622731924,
     "user": {
      "displayName": "Daria Kasyanenko",
      "userId": "03372279434616250424"
     },
     "user_tz": -180
    },
    "id": "uGV4-LoaKKBB",
    "outputId": "fbc03637-a6b3-45b4-aa4c-5dde2d8819b2"
   },
   "outputs": [
    {
     "name": "stdout",
     "output_type": "stream",
     "text": [
      "Введите ваши баллы за творческий ДВИ: 0\n"
     ]
    }
   ],
   "source": [
    "dvi_creative = input('Введите ваши баллы за творческий ДВИ: ')\n",
    "\n",
    "# по образцу выше создайте еще четыре переменные dvi_prof, lit, rus, ind\n",
    "\n",
    "dvi_prof = ...\n",
    "\n",
    "lit = ...\n",
    "\n",
    "rus = ...\n",
    "\n",
    "ind = ..."
   ]
  },
  {
   "cell_type": "markdown",
   "metadata": {
    "id": "sFfveZIeQZKh"
   },
   "source": [
    "Давайте посмотрим на тип данных, которые хранятся в наших переменных."
   ]
  },
  {
   "cell_type": "code",
   "execution_count": null,
   "metadata": {
    "colab": {
     "base_uri": "https://localhost:8080/"
    },
    "executionInfo": {
     "elapsed": 273,
     "status": "ok",
     "timestamp": 1669622734337,
     "user": {
      "displayName": "Daria Kasyanenko",
      "userId": "03372279434616250424"
     },
     "user_tz": -180
    },
    "id": "LEEuaA14QhB0",
    "outputId": "271a43a4-f29d-41ff-bad2-23dc6a14a243"
   },
   "outputs": [
    {
     "data": {
      "text/plain": [
       "str"
      ]
     },
     "execution_count": 2,
     "metadata": {},
     "output_type": "execute_result"
    }
   ],
   "source": [
    "type(dvi_creative)"
   ]
  },
  {
   "cell_type": "markdown",
   "metadata": {
    "id": "Yj8yX9x9UM4G"
   },
   "source": [
    "Мы не сможем сложить текстовые данные, нам нужно перевести их в числа. Вернитесь в ячейку с нашими переменными и оберните все функции `input()` функцией `int()`, который переведет наши данные из текста в число."
   ]
  },
  {
   "cell_type": "code",
   "execution_count": null,
   "metadata": {
    "colab": {
     "base_uri": "https://localhost:8080/"
    },
    "executionInfo": {
     "elapsed": 254,
     "status": "ok",
     "timestamp": 1669622761856,
     "user": {
      "displayName": "Daria Kasyanenko",
      "userId": "03372279434616250424"
     },
     "user_tz": -180
    },
    "id": "OyQSOFESRQfg",
    "outputId": "ec85a8e3-b582-4094-ddb5-6f48d02c621a"
   },
   "outputs": [
    {
     "data": {
      "text/plain": [
       "int"
      ]
     },
     "execution_count": 5,
     "metadata": {},
     "output_type": "execute_result"
    }
   ],
   "source": [
    "type(dvi_creative)"
   ]
  },
  {
   "cell_type": "markdown",
   "metadata": {
    "id": "hUjt2jIORcfz"
   },
   "source": [
    "Давайте теперь сложим все полученные баллы."
   ]
  },
  {
   "cell_type": "code",
   "execution_count": null,
   "metadata": {
    "id": "A-NI-3SzRaua"
   },
   "outputs": [],
   "source": [
    "points =\n",
    "print(points)"
   ]
  },
  {
   "cell_type": "markdown",
   "metadata": {
    "id": "Uu4mi1ihyCvg"
   },
   "source": [
    "\n",
    "\n",
    "---\n",
    "\n"
   ]
  },
  {
   "cell_type": "markdown",
   "metadata": {
    "id": "JWsIZQgLRx2_"
   },
   "source": [
    "Как нам определить, поступит абитуриент или нет? Давайте воспользуемся условной конструкцией `if else`. Выглядит она так:\n",
    "\n",
    "```\n",
    "if <условие 1 выполняется>:\n",
    "    print(<выведи, что условие 1 выполняется>)\n",
    "elif <условие 2 выполняется>:\n",
    "    print(<выведи, что условие 2 выполняется>)\n",
    "...\n",
    "else:\n",
    "    print(все условия выше не выполняются)\n",
    "```"
   ]
  },
  {
   "cell_type": "code",
   "execution_count": null,
   "metadata": {
    "id": "RzXKyoHmRk6t"
   },
   "outputs": [],
   "source": [
    "print('Это калькулятор ЕГЭ по Журналистике')\n",
    "\n",
    "# здесь мы запрашиваем у пользователя его баллы ЕГЭ\n",
    "\n",
    "# здесь мы должны сложить все баллы\n",
    "\n",
    "# здесь мы должны определить результат\n"
   ]
  },
  {
   "cell_type": "markdown",
   "metadata": {
    "id": "aSwjnxOjqeF6"
   },
   "source": [
    "## Медиакоммуникации – калькулятор ЕГЭ\n",
    "\n",
    "**Медиакоммуникации**\n",
    "* 301-310 – бюджет\n",
    "* 270-300 – 70% скидка\n",
    "* 260-269 – 50% скидка\n",
    "* 250-259 – 25% скидка\n",
    "* 180-249 – полная стоимость"
   ]
  },
  {
   "cell_type": "code",
   "execution_count": null,
   "metadata": {
    "id": "_KsgsAxlrRi6"
   },
   "outputs": [],
   "source": [
    "print('Это калькулятор ЕГЭ по Медиакоммункациям')\n",
    "\n",
    "# здесь мы запрашиваем у пользователя его баллы ЕГЭ (что еще нужно добавить ко всем input()?)\n",
    "\n",
    "russ = input('Введите ваши баллы за ЕГЭ по русскому языку: ')\n",
    "\n",
    "# создайте еще три переменные litr, choice (ЕГЭ на выбор), indv\n",
    "\n",
    "litr =\n",
    "\n",
    "choice =\n",
    "\n",
    "ind =\n",
    "\n",
    "# здесь мы должны сложить все баллы\n",
    "\n",
    "# здесь мы должны определить результат\n"
   ]
  },
  {
   "cell_type": "markdown",
   "metadata": {
    "id": "sCAftow-RgYH"
   },
   "source": [
    "# Напиши калькулятор самостоятельно\n",
    "\n",
    "Запусти код в ячейке ниже и получи рандомно одну образовательную программу Вышки. Сходи на [сайт Приемной комиссии](https://ba.hse.ru/discount) и найди информацию о баллах ЕГЭ и скидках, и напиши калькулятор для этой программы."
   ]
  },
  {
   "cell_type": "code",
   "execution_count": 15,
   "metadata": {
    "colab": {
     "base_uri": "https://localhost:8080/"
    },
    "executionInfo": {
     "elapsed": 6,
     "status": "ok",
     "timestamp": 1705163754377,
     "user": {
      "displayName": "Daria Kasyanenko",
      "userId": "03372279434616250424"
     },
     "user_tz": -180
    },
    "id": "WSEY7FEMTzM5",
    "outputId": "831533cd-8f8d-44ba-8109-5c33f2ae9dec"
   },
   "outputs": [
    {
     "name": "stdout",
     "output_type": "stream",
     "text": [
      "Экономика\n"
     ]
    }
   ],
   "source": [
    "import random\n",
    "\n",
    "ops = ['Математика', 'Совместный бакалавриат НИУ ВШЭ и Центра педагогического мастерства',\n",
    "      'Прикладная математика и информатика', 'Прикладная математика', 'Физика', 'Химия',\n",
    "      'География глобальных изменений и геоинформационные технологии', 'Клеточная и молекулярная биотехнология',\n",
    "      'Когнитивная нейробиология', 'Городское планирование', 'Информатика и вычислительная техника',\n",
    "      'Программная инженерия', 'Информационная безопасность', 'Компьютерная безопасность',\n",
    "      'Инфокоммуникационные технологии и системы связи', 'Психология', 'Международная программа по экономике и финансам',\n",
    "      'Экономика', 'Совместная программа по экономике НИУ ВШЭ и РЭШ', 'Экономика и анализ данных',\n",
    "      'Экономика и статистика', 'Мировая экономика', 'Управление бизнесом', 'Маркетинг и рыночная аналитика',\n",
    "      'Управление цепями поставок и бизнес-аналитика', 'Государственное и муниципальное управление',\n",
    "      'Бизнес-информатика', 'Социология', 'Право', 'Цифровой юрист', 'Политология',\n",
    "      'Международные отношения', 'Реклама и связи с общественностью', 'Стратегия и продюсирование в коммуникациях',\n",
    "      'Журналистика', 'Медиакоммуникации', 'Филология', 'Античность',\n",
    "      'Иностранные языки и межкультурная коммуникация', 'Фундаментальная и компьютерная лингвистика',\n",
    "      'История', 'Античность', 'Философия', 'История искусств', 'Культурология', 'Дизайн',\n",
    "      'Востоковедение', 'Египтология', 'Язык, словесность и культура Кореи', 'Языки и литература Юго-Восточной Азии']\n",
    "\n",
    "op = random.choice(op)\n",
    "print(op)"
   ]
  },
  {
   "cell_type": "markdown",
   "metadata": {},
   "source": [
    "Сколько всего образовательных программ в списке? Выведите число"
   ]
  },
  {
   "cell_type": "code",
   "execution_count": 16,
   "metadata": {},
   "outputs": [
    {
     "name": "stdout",
     "output_type": "stream",
     "text": [
      "Всего образовательных программ:\n"
     ]
    }
   ],
   "source": [
    "print('Всего образовательных программ:')"
   ]
  },
  {
   "cell_type": "code",
   "execution_count": 19,
   "metadata": {
    "id": "dZbbJpgFT24h"
   },
   "outputs": [
    {
     "name": "stdout",
     "output_type": "stream",
     "text": [
      "Это калькулятор ЕГЭ для ОП \"Экономика\":\n"
     ]
    }
   ],
   "source": [
    "print(f'Это калькулятор ЕГЭ для ОП \"{op}\":')\n",
    "\n",
    "# место для вашего калькулятора"
   ]
  },
  {
   "cell_type": "code",
   "execution_count": null,
   "metadata": {},
   "outputs": [],
   "source": []
  }
 ],
 "metadata": {
  "colab": {
   "provenance": [
    {
     "file_id": "15SuhVL1x9LfDlkyFtfXHzqwsIVdZsLnt",
     "timestamp": 1705162320660
    },
    {
     "file_id": "1DHo88kcYWyXFrjwwQr-b1bSQCyBwSci2",
     "timestamp": 1669621602568
    }
   ]
  },
  "kernelspec": {
   "display_name": "Python 3",
   "language": "python",
   "name": "python3"
  },
  "language_info": {
   "codemirror_mode": {
    "name": "ipython",
    "version": 3
   },
   "file_extension": ".py",
   "mimetype": "text/x-python",
   "name": "python",
   "nbconvert_exporter": "python",
   "pygments_lexer": "ipython3",
   "version": "3.8.5"
  }
 },
 "nbformat": 4,
 "nbformat_minor": 1
}
